{
 "cells": [
  {
   "cell_type": "code",
   "execution_count": 1,
   "metadata": {},
   "outputs": [],
   "source": [
    "count_array = []\n",
    "\n",
    "with open('kaggle_visible_evaluation_triplets.txt','r') as f:\n",
    "    for line in f:\n",
    "        user, song, count = line.split()\n",
    "        count = int(count)\n",
    "        count_array.append(count)"
   ]
  },
  {
   "cell_type": "code",
   "execution_count": 2,
   "metadata": {},
   "outputs": [
    {
     "data": {
      "text/plain": [
       "Text(0.5, 1.0, 'Count Histogram')"
      ]
     },
     "execution_count": 2,
     "metadata": {},
     "output_type": "execute_result"
    },
    {
     "data": {
      "image/png": "[encoded data removed]",
      "text/plain": [
       "<Figure size 432x288 with 1 Axes>"
      ]
     },
     "metadata": {
      "needs_background": "light"
     },
     "output_type": "display_data"
    }
   ],
   "source": [
    "from matplotlib import pyplot as plt \n",
    "import numpy as np  \n",
    "\n",
    "plt.hist(count_array,bins=[0,1,2,3,4,5,10,15,20,40,60,80]) \n",
    "  \n",
    "plt.title(\"Count Histogram\") "
   ]
  },
  {
   "cell_type": "code",
   "execution_count": 14,
   "metadata": {},
   "outputs": [],
   "source": [
    "no_features = 10"
   ]
  },
  {
   "cell_type": "code",
   "execution_count": 5,
   "metadata": {},
   "outputs": [],
   "source": [
    "userToSongCount = dict()\n",
    "songToUserCount = dict()\n",
    "\n",
    "total_Entries = 0\n",
    "\n",
    "with open('kaggle_visible_evaluation_triplets.txt','r') as f:\n",
    "    for line in f:\n",
    "        user, song, count = line.split()\n",
    "        total_Entries += 1\n",
    "        count = int(count)\n",
    "        if(count>=3):\n",
    "            if(count<=5):\n",
    "                count = 3\n",
    "            elif(count<=10):\n",
    "                count = 4\n",
    "            elif(count<=40):\n",
    "                count = 5\n",
    "            else:\n",
    "                count = 6\n",
    "                \n",
    "        if user in userToSongCount:\n",
    "            userToSongCount[user].append((song,count))\n",
    "        else:\n",
    "            userToSongCount[user] = [(song,count)]\n",
    "\n",
    "        if song in songToUserCount:\n",
    "            songToUserCount[song].append((user,count))\n",
    "        else:\n",
    "            songToUserCount[song] = [(user,count)]\n",
    "\n",
    "songs = sorted(songToUserCount.keys())\n",
    "users = sorted(userToSongCount.keys())\n",
    "\n",
    "songsToIndex = dict()\n",
    "usersToIndex = dict()\n",
    "\n",
    "for n, song in enumerate(songs, start=0):\n",
    "    songsToIndex[song] = n\n",
    "\n",
    "for n, user in enumerate(users, start=0):\n",
    "    usersToIndex[user] = n\n",
    "\n",
    "totalSongs = len(songs)\n",
    "totalUsers = len(users)"
   ]
  },
  {
   "cell_type": "code",
   "execution_count": 6,
   "metadata": {},
   "outputs": [
    {
     "name": "stdout",
     "output_type": "stream",
     "text": [
      "Total users: 110000\n",
      "Total songs: 163206\n",
      "Total entries: 1450933\n"
     ]
    }
   ],
   "source": [
    "print(\"Total users:\", totalUsers)\n",
    "print(\"Total songs:\", totalSongs)\n",
    "print(\"Total entries:\", total_Entries)"
   ]
  },
  {
   "cell_type": "code",
   "execution_count": 7,
   "metadata": {},
   "outputs": [
    {
     "data": {
      "text/plain": [
       "(array([842., 773., 726., 614., 565., 432., 393., 341., 290., 221., 170.,\n",
       "        151., 135.,  98.,  53.,  51.,  23.,  30.,  20.,  13.]),\n",
       " array([30, 31, 32, 33, 34, 35, 36, 37, 38, 39, 40, 41, 42, 43, 44, 45, 46,\n",
       "        47, 48, 49, 50]),\n",
       " <BarContainer object of 20 artists>)"
      ]
     },
     "execution_count": 7,
     "metadata": {},
     "output_type": "execute_result"
    },
    {
     "data": {
      "image/png": "[encoded data removed]",
      "text/plain": [
       "<Figure size 432x288 with 1 Axes>"
      ]
     },
     "metadata": {
      "needs_background": "light"
     },
     "output_type": "display_data"
    }
   ],
   "source": [
    "entry_each_user=[]\n",
    "\n",
    "for user in userToSongCount:\n",
    "    entry_each_user.append(len(userToSongCount[user]))\n",
    "\n",
    "plt.hist(entry_each_user,bins=[30,31,32,33,34,35,36,37,38,39,40,41,42,43,44,45,46,47,48,49,50])"
   ]
  },
  {
   "cell_type": "code",
   "execution_count": 8,
   "metadata": {},
   "outputs": [
    {
     "data": {
      "text/plain": [
       "(array([298., 317., 309., 260., 275., 234., 228., 230., 194., 181., 200.,\n",
       "        203., 168., 178., 153., 152., 130., 142., 131., 262.]),\n",
       " array([30, 31, 32, 33, 34, 35, 36, 37, 38, 39, 40, 41, 42, 43, 44, 45, 46,\n",
       "        47, 48, 49, 50]),\n",
       " <BarContainer object of 20 artists>)"
      ]
     },
     "execution_count": 8,
     "metadata": {},
     "output_type": "execute_result"
    },
    {
     "data": {
      "image/png": "[encoded data removed]",
      "text/plain": [
       "<Figure size 432x288 with 1 Axes>"
      ]
     },
     "metadata": {
      "needs_background": "light"
     },
     "output_type": "display_data"
    }
   ],
   "source": [
    "entry_each_song=[]\n",
    "\n",
    "for song in songToUserCount:\n",
    "    entry_each_song.append(len(songToUserCount[song]))\n",
    "\n",
    "plt.hist(entry_each_song,bins=[30,31,32,33,34,35,36,37,38,39,40,41,42,43,44,45,46,47,48,49,50])"
   ]
  },
  {
   "cell_type": "code",
   "execution_count": 7,
   "metadata": {},
   "outputs": [],
   "source": [
    "songEntry = {}\n",
    "userEntry = {}\n",
    "train_data = dict()\n",
    "test_data = dict()\n",
    "\n",
    "for user in userToSongCount:\n",
    "    userEntry[user] = len(userToSongCount[user])\n",
    "\n",
    "for song in songToUserCount:\n",
    "    songEntry[song] = len(songToUserCount[song])\n",
    "\n",
    "for user in userToSongCount:\n",
    "    if(userEntry[user]>=25):\n",
    "        mx=0\n",
    "        for(song,count) in userToSongCount[user]:\n",
    "            if(songEntry[song]>=20 and mx<5):\n",
    "                mx+=1\n",
    "                test_data[(user,song)] = count\n",
    "                songEntry[song]-=1 \n",
    "            else:\n",
    "                train_data[(user,song)] = count \n",
    "    else:\n",
    "        for(song,count) in userToSongCount[user]:\n",
    "            train_data[(user,song)] = count"
   ]
  },
  {
   "cell_type": "code",
   "execution_count": 8,
   "metadata": {},
   "outputs": [],
   "source": [
    "train_userToSongCount = dict()\n",
    "train_songToUserCount = dict()\n",
    "\n",
    "for (user,song) in train_data:\n",
    "    if user in train_userToSongCount:\n",
    "        train_userToSongCount[user].append((song,train_data[(user,song)]))\n",
    "    else:\n",
    "        train_userToSongCount[user] = [(song,train_data[(user,song)])]\n",
    "\n",
    "    if song in train_songToUserCount:\n",
    "        train_songToUserCount[song].append((user,train_data[(user,song)]))\n",
    "    else:\n",
    "        train_songToUserCount[song] = [(user,train_data[(user,song)])]"
   ]
  },
  {
   "cell_type": "code",
   "execution_count": 9,
   "metadata": {},
   "outputs": [
    {
     "name": "stdout",
     "output_type": "stream",
     "text": [
      "Total users in train data: 110000\n",
      "Total songs in train data: 163206\n"
     ]
    }
   ],
   "source": [
    "train_songs = sorted(train_songToUserCount.keys())\n",
    "train_users = sorted(train_userToSongCount.keys())\n",
    "\n",
    "print(\"Total users in train data:\", len(train_users))\n",
    "print(\"Total songs in train data:\", len(train_songs))"
   ]
  },
  {
   "cell_type": "code",
   "execution_count": 10,
   "metadata": {},
   "outputs": [
    {
     "name": "stdout",
     "output_type": "stream",
     "text": [
      "Length of train data: 1391193\n",
      "Length of test data: 59740\n"
     ]
    }
   ],
   "source": [
    "print(\"Length of train data:\", len(train_data))\n",
    "print(\"Length of test data:\", len(test_data))"
   ]
  },
  {
   "cell_type": "code",
   "execution_count": 11,
   "metadata": {},
   "outputs": [],
   "source": [
    "song_averages = {}\n",
    "user_offsets_averages = {}\n",
    "\n",
    "# Calculate average song play count\n",
    "# for given song average is sum of total play counts of that songs / number of users listened that song\n",
    "for song in songs:\n",
    "    song_averages[song] = sum(map(lambda x: x[1], train_songToUserCount[song])) / len(train_songToUserCount[song])\n",
    "\n",
    "\n",
    "# Calculate average user offset\n",
    "# Offset of given song and user = song play count for that user - average song play count of that song\n",
    "# Average offset of a user = sum of offsets of all songs he/she plays / number of songs he/she plays\n",
    "for user in users:\n",
    "    user_offsets_averages[user] = sum(map(lambda x: (x[1] - song_averages[x[0]]), train_userToSongCount[user])) / len(train_userToSongCount[user])\n",
    "\n",
    "# Function to calculate baseline prediction\n",
    "def baseline_prediction(user, song):\n",
    "    return song_averages[song] + user_offsets_averages[user]"
   ]
  },
  {
   "cell_type": "code",
   "execution_count": 47,
   "metadata": {},
   "outputs": [],
   "source": [
    "# For user_feature Matrix\n",
    "rows = no_features\n",
    "cols = totalUsers\n",
    "\n",
    "# Initializing user_feature matrix\n",
    "user_feature = [ [ 0.1 for i in range(cols) ] for j in range(rows) ]\n",
    "\n",
    "# For song_feature Matrix\n",
    "rows = no_features\n",
    "cols = totalSongs\n",
    "\n",
    "# Initializing song_feature matrix\n",
    "song_feature = [ [ 0.1 for i in range(cols) ] for j in range(rows) ]"
   ]
  },
  {
   "cell_type": "code",
   "execution_count": 18,
   "metadata": {},
   "outputs": [],
   "source": [
    "LearningRate = 0.01"
   ]
  },
  {
   "cell_type": "code",
   "execution_count": 39,
   "metadata": {},
   "outputs": [],
   "source": [
    "def prediction(user, song):\n",
    "    predicted_count = 0\n",
    "    for i in range(no_features):\n",
    "        predicted_count += user_feature[i][usersToIndex[user]] * song_feature[i][songsToIndex[song]]\n",
    "    return predicted_count"
   ]
  },
  {
   "cell_type": "code",
   "execution_count": 16,
   "metadata": {},
   "outputs": [],
   "source": [
    "def train(user, song, count, feature_index, baseline):\n",
    "    err = 0\n",
    "    if(baseline):\n",
    "        err = count - baseline_prediction(user, song)\n",
    "    else:\n",
    "        err = count - prediction(user, song)\n",
    "        \n",
    "    uv = user_feature[feature_index][usersToIndex[user]]\n",
    "    sv = song_feature[feature_index][songsToIndex[song]]\n",
    "    \n",
    "    user_feature[feature_index][usersToIndex[user]] += LearningRate * err * sv\n",
    "    song_feature[feature_index][songsToIndex[song]] += LearningRate * err * uv\n",
    "\n",
    "    return err"
   ]
  },
  {
   "cell_type": "code",
   "execution_count": 51,
   "metadata": {},
   "outputs": [
    {
     "name": "stdout",
     "output_type": "stream",
     "text": [
      "For feature  0 : Err is =  1004913.6334026883  Avg Err is =  0.7223394837399902\n",
      "For feature  1 : Err is =  1004913.6334026883  Avg Err is =  0.7223394837399902\n",
      "For feature  2 : Err is =  1004913.6334026883  Avg Err is =  0.7223394837399902\n",
      "For feature  3 : Err is =  1004913.6334026883  Avg Err is =  0.7223394837399902\n",
      "For feature  4 : Err is =  1004913.6334026883  Avg Err is =  0.7223394837399902\n",
      "For feature  5 : Err is =  1004913.6334026883  Avg Err is =  0.7223394837399902\n",
      "For feature  6 : Err is =  1004913.6334026883  Avg Err is =  0.7223394837399902\n",
      "For feature  7 : Err is =  1004913.6334026883  Avg Err is =  0.7223394837399902\n",
      "For feature  8 : Err is =  1004913.6334026883  Avg Err is =  0.7223394837399902\n",
      "For feature  9 : Err is =  1004913.6334026883  Avg Err is =  0.7223394837399902\n"
     ]
    }
   ],
   "source": [
    "for feature in range(no_features):\n",
    "    err = 0\n",
    "\n",
    "    for user in train_userToSongCount:\n",
    "        for song in train_userToSongCount[user]:\n",
    "            temp = abs(train(user, song[0], song[1], feature, True))\n",
    "            if(temp != temp):\n",
    "                print(\"temp \",temp)\n",
    "                break\n",
    "            err += temp\n",
    "    \n",
    "    avg_err = err / len(train_data)\n",
    "    print(\"For feature \", feature, \": Err is = \", err, \" Avg Err is = \",avg_err)"
   ]
  },
  {
   "cell_type": "code",
   "execution_count": 19,
   "metadata": {},
   "outputs": [
    {
     "name": "stdout",
     "output_type": "stream",
     "text": [
      "Iteration: 0\n",
      "For feature  0 : Err is =  531627.0045624638  Avg Err is =  0.3821374924704652\n",
      "For feature  1 : Err is =  529498.3151512458  Avg Err is =  0.3806073744988983\n",
      "For feature  2 : Err is =  528507.512347973  Avg Err is =  0.37989517798606875\n",
      "For feature  3 : Err is =  527521.223960032  Avg Err is =  0.3791862264689601\n",
      "For feature  4 : Err is =  526529.4615231341  Avg Err is =  0.3784733401642577\n",
      "For feature  5 : Err is =  525683.593986089  Avg Err is =  0.3778653242117298\n",
      "For feature  6 : Err is =  524808.9521946257  Avg Err is =  0.37723662510854045\n",
      "For feature  7 : Err is =  524065.39047907706  Avg Err is =  0.3767021473505668\n",
      "For feature  8 : Err is =  523373.20178511913  Avg Err is =  0.3762045969072006\n",
      "For feature  9 : Err is =  522698.0979109659  Avg Err is =  0.3757193271609086\n",
      "Iteration: 1\n",
      "For feature  0 : Err is =  525602.9757056828  Avg Err is =  0.3778073751849548\n",
      "For feature  1 : Err is =  523509.53617172805  Avg Err is =  0.37630259509049285\n",
      "For feature  2 : Err is =  522535.5409908944  Avg Err is =  0.37560248002318475\n",
      "For feature  3 : Err is =  521569.6840444325  Avg Err is =  0.37490821477999997\n",
      "For feature  4 : Err is =  520597.0030167178  Avg Err is =  0.3742090443358454\n",
      "For feature  5 : Err is =  519764.86608234915  Avg Err is =  0.37361089804387254\n",
      "For feature  6 : Err is =  518902.4707453069  Avg Err is =  0.3729910017843009\n",
      "For feature  7 : Err is =  518165.1741187472  Avg Err is =  0.3724610274194502\n",
      "For feature  8 : Err is =  517480.9338118324  Avg Err is =  0.37196919033651865\n",
      "For feature  9 : Err is =  516817.62587401166  Avg Err is =  0.3714923995980512\n",
      "Iteration: 2\n",
      "For feature  0 : Err is =  519677.7214848081  Avg Err is =  0.373548257851217\n",
      "For feature  1 : Err is =  517616.87048842927  Avg Err is =  0.3720669026428607\n",
      "For feature  2 : Err is =  516659.8650947536  Avg Err is =  0.3713789999624449\n",
      "For feature  3 : Err is =  515715.0378390212  Avg Err is =  0.37069985101924835\n",
      "For feature  4 : Err is =  514760.0616679487  Avg Err is =  0.37001340695931384\n",
      "For feature  5 : Err is =  513944.3586389314  Avg Err is =  0.3694270734822066\n",
      "For feature  6 : Err is =  513095.2008484459  Avg Err is =  0.3688166924707398\n",
      "For feature  7 : Err is =  512364.9990532815  Avg Err is =  0.3682918179240993\n",
      "For feature  8 : Err is =  511687.9325703705  Avg Err is =  0.36780513743985954\n",
      "For feature  9 : Err is =  511035.47110592277  Avg Err is =  0.3673361432280947\n",
      "Iteration: 3\n",
      "For feature  0 : Err is =  513851.8496748971  Avg Err is =  0.36936057734253774\n",
      "For feature  1 : Err is =  511821.9566530023  Avg Err is =  0.36790147495926323\n",
      "For feature  2 : Err is =  510882.4070233859  Avg Err is =  0.3672261196134439\n",
      "For feature  3 : Err is =  509957.85279405897  Avg Err is =  0.36656154307422406\n",
      "For feature  4 : Err is =  509019.55831674975  Avg Err is =  0.36588708994133073\n",
      "For feature  5 : Err is =  508216.8797042199  Avg Err is =  0.36531011851283024\n",
      "For feature  6 : Err is =  507381.9343983003  Avg Err is =  0.3647099535422478\n",
      "For feature  7 : Err is =  506657.8744147288  Avg Err is =  0.36418949377601006\n",
      "For feature  8 : Err is =  505987.675803991  Avg Err is =  0.3637077499699833\n",
      "For feature  9 : Err is =  505346.7456228972  Avg Err is =  0.36324704453149\n",
      "Iteration: 4\n",
      "For feature  0 : Err is =  508120.66528300673  Avg Err is =  0.36524095886265007\n",
      "For feature  1 : Err is =  506121.80473844585  Avg Err is =  0.36380416285766665\n",
      "For feature  2 : Err is =  505198.2727534488  Avg Err is =  0.3631403211153656\n",
      "For feature  3 : Err is =  504294.2885737533  Avg Err is =  0.3624905304826529\n",
      "For feature  4 : Err is =  503371.27300609974  Avg Err is =  0.3618270599450254\n",
      "For feature  5 : Err is =  502580.93088093406  Avg Err is =  0.3612589560764998\n",
      "For feature  6 : Err is =  501758.4377251078  Avg Err is =  0.3606677418051326\n",
      "For feature  7 : Err is =  501043.2085301773  Avg Err is =  0.36015362967624\n",
      "For feature  8 : Err is =  500378.0689785393  Avg Err is =  0.359675522359974\n",
      "For feature  9 : Err is =  499748.0620419158  Avg Err is =  0.3592226686318259\n",
      "Iteration: 5\n",
      "For feature  0 : Err is =  502480.3126547875  Avg Err is =  0.36118663093818576\n",
      "For feature  1 : Err is =  500512.2565259467  Avg Err is =  0.35977197737908884\n",
      "For feature  2 : Err is =  499606.53216751356  Avg Err is =  0.35912093589280103\n",
      "For feature  3 : Err is =  498720.4257138151  Avg Err is =  0.3584839959041018\n",
      "For feature  4 : Err is =  497812.4892580985  Avg Err is =  0.35783136434563606\n",
      "For feature  5 : Err is =  497036.4699002155  Avg Err is =  0.3572735557900417\n",
      "For feature  6 : Err is =  496226.8607014597  Avg Err is =  0.3566916026039951\n",
      "For feature  7 : Err is =  495518.82006796676  Avg Err is =  0.35618265766717255\n",
      "For feature  8 : Err is =  494860.4065855865  Avg Err is =  0.35570938510011657\n",
      "For feature  9 : Err is =  494241.28472312755  Avg Err is =  0.35526435564521064\n",
      "Iteration: 6\n",
      "For feature  0 : Err is =  496934.3694858947  Avg Err is =  0.35720016524371145\n",
      "For feature  1 : Err is =  494994.23828690936  Avg Err is =  0.35580558433438736\n",
      "For feature  2 : Err is =  494107.6937772399  Avg Err is =  0.3551683294677589\n",
      "For feature  3 : Err is =  493241.0445857177  Avg Err is =  0.35454537550556803\n",
      "For feature  4 : Err is =  492348.4640658223  Avg Err is =  0.35390378190935573\n",
      "For feature  5 : Err is =  491586.6949632895  Avg Err is =  0.35335621654456967\n",
      "For feature  6 : Err is =  490790.2202632876  Avg Err is =  0.35278370453509156\n",
      "For feature  7 : Err is =  490088.7690636916  Avg Err is =  0.35227949613295323\n",
      "For feature  8 : Err is =  489437.9154649886  Avg Err is =  0.35181165766718825\n",
      "For feature  9 : Err is =  488828.6238895142  Avg Err is =  0.35137369429656\n",
      "Iteration: 7\n",
      "For feature  0 : Err is =  491483.7074195185  Avg Err is =  0.35328218832291314\n",
      "For feature  1 : Err is =  489570.6247750357  Avg Err is =  0.3519070501181617\n",
      "For feature  2 : Err is =  488701.0723836677  Avg Err is =  0.35128200931406905\n",
      "For feature  3 : Err is =  487852.3338417672  Avg Err is =  0.3506719296616409\n",
      "For feature  4 : Err is =  486974.8713219727  Avg Err is =  0.35004120299769526\n",
      "For feature  5 : Err is =  486227.91327905224  Avg Err is =  0.34950428393404237\n",
      "For feature  6 : Err is =  485446.13028271863  Avg Err is =  0.34894233243174644\n",
      "For feature  7 : Err is =  484750.9707654191  Avg Err is =  0.34844264653820073\n",
      "For feature  8 : Err is =  484106.78948464256  Avg Err is =  0.34797960418478424\n",
      "For feature  9 : Err is =  483506.4073029009  Avg Err is =  0.3475480449534327\n",
      "Iteration: 8\n",
      "For feature  0 : Err is =  486126.4681512753  Avg Err is =  0.34943136441261224\n",
      "For feature  1 : Err is =  484238.6546716371  Avg Err is =  0.3480743898737538\n",
      "For feature  2 : Err is =  483384.8692551691  Avg Err is =  0.3474606824898983\n",
      "For feature  3 : Err is =  482552.56807484676  Avg Err is =  0.3468624181366976\n",
      "For feature  4 : Err is =  481690.29342851805  Avg Err is =  0.3462426086305193\n",
      "For feature  5 : Err is =  480959.0713429401  Avg Err is =  0.3457170006914498\n",
      "For feature  6 : Err is =  480189.6359125419  Avg Err is =  0.34516392471248913\n",
      "For feature  7 : Err is =  479501.87234372844  Avg Err is =  0.344669555082385\n",
      "For feature  8 : Err is =  478864.39588338276  Avg Err is =  0.34421133220436184\n",
      "For feature  9 : Err is =  478272.14925283304  Avg Err is =  0.3437856208684439\n",
      "Iteration: 9\n",
      "For feature  0 : Err is =  480857.66354905826  Avg Err is =  0.34564410800590445\n",
      "For feature  1 : Err is =  478994.51866921136  Avg Err is =  0.3443048654422581\n",
      "For feature  2 : Err is =  478156.8844419319  Avg Err is =  0.34370276765476243\n",
      "For feature  3 : Err is =  477338.99816927087  Avg Err is =  0.3431148648456906\n",
      "For feature  4 : Err is =  476492.4234721041  Avg Err is =  0.3425063405811445\n",
      "For feature  5 : Err is =  475774.89949362655  Avg Err is =  0.34199057894456525\n",
      "For feature  6 : Err is =  475017.8445315066  Avg Err is =  0.3414464021393916\n",
      "For feature  7 : Err is =  474337.415058324  Avg Err is =  0.34095730431243115\n",
      "For feature  8 : Err is =  473707.5198418241  Avg Err is =  0.3405045308895488\n",
      "For feature  9 : Err is =  473123.22940987896  Avg Err is =  0.34008453852907466\n",
      "Iteration: 10\n",
      "For feature  0 : Err is =  475674.96090985613  Avg Err is =  0.3419187423383069\n",
      "For feature  1 : Err is =  473836.3859750616  Avg Err is =  0.3405971608361037\n",
      "For feature  2 : Err is =  473015.1015067459  Avg Err is =  0.34000681537841687\n",
      "For feature  3 : Err is =  472211.53382311756  Avg Err is =  0.3394292048789187\n",
      "For feature  4 : Err is =  471379.0148370168  Avg Err is =  0.33883078396528504\n",
      "For feature  5 : Err is =  470676.0327181363  Avg Err is =  0.33832547512684175\n",
      "For feature  6 : Err is =  469932.0705619573  Avg Err is =  0.3377907095291288\n",
      "For feature  7 : Err is =  469258.8227806144  Avg Err is =  0.3373067739563198\n",
      "For feature  8 : Err is =  468635.4010695461  Avg Err is =  0.3368586537378682\n",
      "For feature  9 : Err is =  468059.10729760706  Avg Err is =  0.3364444094367978\n",
      "Iteration: 11\n",
      "For feature  0 : Err is =  470577.5795261394  Avg Err is =  0.33825470623137077\n",
      "For feature  1 : Err is =  468764.01755338174  Avg Err is =  0.3369511042345539\n",
      "For feature  2 : Err is =  467957.4925723188  Avg Err is =  0.3363713680074\n",
      "For feature  3 : Err is =  467168.8918265184  Avg Err is =  0.33580451585546967\n",
      "For feature  4 : Err is =  466351.09595882817  Avg Err is =  0.33521667803017136\n",
      "For feature  5 : Err is =  465661.46439261024  Avg Err is =  0.33472096566947235\n",
      "For feature  6 : Err is =  464929.6236694144  Avg Err is =  0.33419491304902654\n",
      "For feature  7 : Err is =  464263.87786079844  Avg Err is =  0.3337163699506815\n",
      "For feature  8 : Err is =  463645.84589341667  Avg Err is =  0.33327212392056077\n",
      "For feature  9 : Err is =  463076.73744911264  Avg Err is =  0.3328630444870788\n",
      "Iteration: 12\n",
      "For feature  0 : Err is =  465563.9887779187  Avg Err is =  0.3346508994639268\n",
      "For feature  1 : Err is =  463776.2868655378  Avg Err is =  0.3333658858731591\n",
      "For feature  2 : Err is =  462983.12378554547  Avg Err is =  0.3327957542810706\n",
      "For feature  3 : Err is =  462209.31478607067  Avg Err is =  0.3322395345477376\n",
      "For feature  4 : Err is =  461406.4895309977  Avg Err is =  0.3316624577114733\n",
      "For feature  5 : Err is =  460729.55174413155  Avg Err is =  0.33117586973491925\n",
      "For feature  6 : Err is =  460009.5027520471  Avg Err is =  0.33065829309955347\n",
      "For feature  7 : Err is =  459350.36127703736  Avg Err is =  0.3301844972459158\n",
      "For feature  8 : Err is =  458739.18918050354  Avg Err is =  0.3297451821425953\n",
      "For feature  9 : Err is =  458177.4246212471  Avg Err is =  0.3293413815489635\n",
      "Iteration: 13\n",
      "For feature  0 : Err is =  460635.5697666679  Avg Err is =  0.33110831478210995\n",
      "For feature  1 : Err is =  458869.5004319773  Avg Err is =  0.3298388508510159\n",
      "For feature  2 : Err is =  458089.2954149628  Avg Err is =  0.32927803361213204\n",
      "For feature  3 : Err is =  457329.8120362288  Avg Err is =  0.3287321112428173\n",
      "For feature  4 : Err is =  456542.6323123428  Avg Err is =  0.32816628053213526\n",
      "For feature  5 : Err is =  455877.7997204436  Avg Err is =  0.32768839386084003\n",
      "For feature  6 : Err is =  455170.6454795425  Avg Err is =  0.3271800860696844\n",
      "For feature  7 : Err is =  454518.99724039034  Avg Err is =  0.3267116764103833\n",
      "For feature  8 : Err is =  453914.5587828078  Avg Err is =  0.32627720149742545\n",
      "For feature  9 : Err is =  453361.78238317254  Avg Err is =  0.3258798616605838\n",
      "Iteration: 14\n",
      "For feature  0 : Err is =  455789.1101608619  Avg Err is =  0.3276246431378406\n",
      "For feature  1 : Err is =  454045.3791936587  Avg Err is =  0.32637123619343883\n",
      "For feature  2 : Err is =  453278.3045464516  Avg Err is =  0.32581985716320566\n",
      "For feature  3 : Err is =  452531.8678529897  Avg Err is =  0.3252833128494678\n",
      "For feature  4 : Err is =  451760.1491728939  Avg Err is =  0.32472859565343837\n",
      "For feature  5 : Err is =  451107.5688706303  Avg Err is =  0.324259516020157\n",
      "For feature  6 : Err is =  450412.39992947766  Avg Err is =  0.3237598233526748\n",
      "For feature  7 : Err is =  449768.5376744709  Avg Err is =  0.32329701031738295\n",
      "For feature  8 : Err is =  449171.34436852386  Avg Err is =  0.3228677432739554\n",
      "For feature  9 : Err is =  448625.43678090145  Avg Err is =  0.3224753407908906\n",
      "Iteration: 15\n",
      "For feature  0 : Err is =  451023.4242496853  Avg Err is =  0.32419903223325974\n",
      "For feature  1 : Err is =  449301.3148132431  Avg Err is =  0.3229611670079156\n",
      "For feature  2 : Err is =  448545.39453683863  Avg Err is =  0.3224178058233751\n",
      "For feature  3 : Err is =  447813.64453801716  Avg Err is =  0.32189181841629244\n",
      "For feature  4 : Err is =  447056.2350517272  Avg Err is =  0.3213473867764769\n",
      "For feature  5 : Err is =  446415.76803364465  Avg Err is =  0.32088701426304234\n",
      "For feature  6 : Err is =  445731.56650376273  Avg Err is =  0.3203952050533339\n",
      "For feature  7 : Err is =  445096.5514774768  Avg Err is =  0.3199387514726402\n",
      "For feature  8 : Err is =  444506.10286060715  Avg Err is =  0.3195143325624893\n",
      "For feature  9 : Err is =  443967.78506413207  Avg Err is =  0.31912738567843\n",
      "Iteration: 16\n",
      "For feature  0 : Err is =  446340.17948674236  Avg Err is =  0.32083268064656906\n",
      "For feature  1 : Err is =  444636.2010384388  Avg Err is =  0.3196078481119721\n",
      "For feature  2 : Err is =  443892.57446006464  Avg Err is =  0.3190733237301112\n",
      "For feature  3 : Err is =  443174.5846028113  Avg Err is =  0.3185572272163613\n",
      "For feature  4 : Err is =  442430.87864465296  Avg Err is =  0.31802264577571404\n",
      "For feature  5 : Err is =  441804.05160774646  Avg Err is =  0.3175720777834179\n",
      "For feature  6 : Err is =  441130.4746941951  Avg Err is =  0.3170879056279\n",
      "For feature  7 : Err is =  440504.15494231536  Avg Err is =  0.31663770227589944\n",
      "For feature  8 : Err is =  439920.9752088508  Avg Err is =  0.3162185082938534\n",
      "For feature  9 : Err is =  439390.18196626037  Avg Err is =  0.3158369701157642\n",
      "Iteration: 17\n",
      "For feature  0 : Err is =  441737.9784763604  Avg Err is =  0.3175245839192408\n",
      "For feature  1 : Err is =  440050.8088421159  Avg Err is =  0.31631183368671056\n",
      "For feature  2 : Err is =  439317.5876590878  Avg Err is =  0.3157847887813465\n",
      "For feature  3 : Err is =  438615.43472878577  Avg Err is =  0.3152800759698947\n",
      "For feature  4 : Err is =  437883.6494759525  Avg Err is =  0.3147540632219631\n",
      "For feature  5 : Err is =  437269.613833833  Avg Err is =  0.31431268978052146\n",
      "For feature  6 : Err is =  436607.55701189325  Avg Err is =  0.3138367983535665\n",
      "For feature  7 : Err is =  435989.95439932845  Avg Err is =  0.31339286094692\n",
      "For feature  8 : Err is =  435414.1968379356  Avg Err is =  0.31297900207802626\n",
      "For feature  9 : Err is =  434890.8490295229  Avg Err is =  0.3126028157340663\n",
      "Iteration: 18\n",
      "For feature  0 : Err is =  437213.83084383333  Avg Err is =  0.3142725925474275\n",
      "For feature  1 : Err is =  435543.6056362007  Avg Err is =  0.31307202209628765\n",
      "For feature  2 : Err is =  434822.1358763037  Avg Err is =  0.31255342420232396\n",
      "For feature  3 : Err is =  434134.4870669004  Avg Err is =  0.31205913706214766\n",
      "For feature  4 : Err is =  433414.3687361182  Avg Err is =  0.31154151058560403\n",
      "For feature  5 : Err is =  432811.6697337853  Avg Err is =  0.31110828600617263\n",
      "For feature  6 : Err is =  432160.7396517116  Avg Err is =  0.31064039256358505\n",
      "For feature  7 : Err is =  431551.5424838101  Avg Err is =  0.31020249705383085\n",
      "For feature  8 : Err is =  430982.64236131473  Avg Err is =  0.30979356736363306\n",
      "For feature  9 : Err is =  430465.5306693687  Avg Err is =  0.309421863587129\n",
      "Iteration: 19\n",
      "For feature  0 : Err is =  432764.02415553766  Avg Err is =  0.31107403800589684\n",
      "For feature  1 : Err is =  431111.4651164207  Avg Err is =  0.30988616612966047\n",
      "For feature  2 : Err is =  430402.6765666047  Avg Err is =  0.3093766835849553\n",
      "For feature  3 : Err is =  429727.60757837206  Avg Err is =  0.3088914389149256\n",
      "For feature  4 : Err is =  429020.4467345601  Avg Err is =  0.30838312637754794\n",
      "For feature  5 : Err is =  428428.94024644786  Avg Err is =  0.3079579470615852\n",
      "For feature  6 : Err is =  427789.86989060167  Avg Err is =  0.30749857847947887\n",
      "For feature  7 : Err is =  427188.5187450851  Avg Err is =  0.3070663227496725\n",
      "For feature  8 : Err is =  426626.722102712  Avg Err is =  0.3066624990944549\n",
      "For feature  9 : Err is =  426116.0231499137  Avg Err is =  0.30629540484311935\n"
     ]
    }
   ],
   "source": [
    "interation = 0\n",
    "\n",
    "while(interation < 20):\n",
    "    print(\"Iteration:\", interation)\n",
    "    for feature in range(no_features):\n",
    "        err = 0\n",
    "        for user in train_userToSongCount:\n",
    "            for song in train_userToSongCount[user]:\n",
    "                temp = abs(train(user, song[0], song[1],feature,False))\n",
    "                if(temp != temp):\n",
    "                    print(\"temp \",temp)\n",
    "                    exit()\n",
    "                    break\n",
    "                err += temp\n",
    "        avg_err = err / len(train_data)\n",
    "        print(\"For feature \", feature, \": Err is = \", err, \" Avg Err is = \",avg_err)\n",
    "        if(avg_err < 0.1):\n",
    "            interation = 500\n",
    "            break\n",
    "    interation += 1"
   ]
  },
  {
   "cell_type": "code",
   "execution_count": 59,
   "metadata": {},
   "outputs": [],
   "source": [
    "import numpy as np\n",
    "\n",
    "np.savetxt(\"song_feature.txt\", song_feature)\n",
    "np.savetxt(\"user_feature.txt\", user_feature)"
   ]
  },
  {
   "cell_type": "code",
   "execution_count": 2,
   "metadata": {},
   "outputs": [],
   "source": [
    "import numpy as np"
   ]
  },
  {
   "cell_type": "code",
   "execution_count": 42,
   "metadata": {},
   "outputs": [],
   "source": [
    "loaded_song_feature = np.loadtxt(\"song_feature.txt\")\n",
    "loaded_user_feature = np.loadtxt(\"user_feature.txt\")"
   ]
  },
  {
   "cell_type": "code",
   "execution_count": 43,
   "metadata": {},
   "outputs": [],
   "source": [
    "song_feature = loaded_song_feature\n",
    "user_feature = loaded_user_feature"
   ]
  },
  {
   "cell_type": "code",
   "execution_count": 61,
   "metadata": {},
   "outputs": [
    {
     "data": {
      "text/plain": [
       "array([[ True,  True,  True, ...,  True,  True,  True],\n",
       "       [ True,  True,  True, ...,  True,  True,  True],\n",
       "       [ True,  True,  True, ...,  True,  True,  True],\n",
       "       ...,\n",
       "       [ True,  True,  True, ...,  True,  True,  True],\n",
       "       [ True,  True,  True, ...,  True,  True,  True],\n",
       "       [ True,  True,  True, ...,  True,  True,  True]])"
      ]
     },
     "execution_count": 61,
     "metadata": {},
     "output_type": "execute_result"
    }
   ],
   "source": [
    "loaded_song_feature == song_feature"
   ]
  },
  {
   "cell_type": "code",
   "execution_count": 62,
   "metadata": {},
   "outputs": [
    {
     "data": {
      "text/plain": [
       "array([[ True,  True,  True, ...,  True,  True,  True],\n",
       "       [ True,  True,  True, ...,  True,  True,  True],\n",
       "       [ True,  True,  True, ...,  True,  True,  True],\n",
       "       ...,\n",
       "       [ True,  True,  True, ...,  True,  True,  True],\n",
       "       [ True,  True,  True, ...,  True,  True,  True],\n",
       "       [ True,  True,  True, ...,  True,  True,  True]])"
      ]
     },
     "execution_count": 62,
     "metadata": {},
     "output_type": "execute_result"
    }
   ],
   "source": [
    "loaded_user_feature == user_feature"
   ]
  },
  {
   "cell_type": "code",
   "execution_count": 44,
   "metadata": {},
   "outputs": [
    {
     "name": "stdout",
     "output_type": "stream",
     "text": [
      "Average Absolute error is :  1.0412638487864754\n",
      "Root mean square error is :  1.431733625010405\n"
     ]
    }
   ],
   "source": [
    "absolute_error = 0\n",
    "mean_square_error = 0\n",
    "\n",
    "for (user,song) in test_data:\n",
    "    absolute_error += abs(prediction(user,song) - test_data[(user,song)])\n",
    "    mean_square_error += ( (prediction(user,song) - test_data[(user,song)])**2)\n",
    "\n",
    "absolute_error = absolute_error/len(test_data)\n",
    "mean_square_error = mean_square_error/len(test_data)\n",
    "rmse = (mean_square_error)**0.5\n",
    "\n",
    "print(\"Average Absolute error is : \",absolute_error)\n",
    "print(\"Root mean square error is : \",rmse)"
   ]
  },
  {
   "cell_type": "markdown",
   "metadata": {},
   "source": [
    "## Condsidering the Regularization and non-Linear prediction function"
   ]
  },
  {
   "cell_type": "code",
   "execution_count": 24,
   "metadata": {},
   "outputs": [],
   "source": [
    "def prediction_nonlinear(user, song):\n",
    "    predicted_count = 0\n",
    "    for i in range(no_features):\n",
    "        predicted_count += min(user_feature[i][usersToIndex[user]] * song_feature[i][songsToIndex[song]],6)\n",
    "    return min(predicted_count,6)"
   ]
  },
  {
   "cell_type": "code",
   "execution_count": 49,
   "metadata": {},
   "outputs": [],
   "source": [
    "# For user_feature Matrix\n",
    "rows = no_features\n",
    "cols = totalUsers\n",
    "\n",
    "# Initializing user_feature matrix\n",
    "regularised_user_feature = [ [ 0.1 for i in range(cols) ] for j in range(rows) ]\n",
    "\n",
    "# For song_feature Matrix\n",
    "rows = no_features\n",
    "cols = totalSongs\n",
    "\n",
    "# Initializing song_feature matrix\n",
    "regularised_song_feature = [ [ 0.1 for i in range(cols) ] for j in range(rows) ]"
   ]
  },
  {
   "cell_type": "code",
   "execution_count": 46,
   "metadata": {},
   "outputs": [],
   "source": [
    "K = 0.02"
   ]
  },
  {
   "cell_type": "code",
   "execution_count": 33,
   "metadata": {},
   "outputs": [],
   "source": [
    "def train_regularization(user, song, count, feature_index, baseline):\n",
    "    err = 0\n",
    "    if(baseline):\n",
    "        err = count - baseline_prediction(user, song)\n",
    "    else:\n",
    "        err = count - prediction_nonlinear(user, song)\n",
    "        \n",
    "    uv = regularised_user_feature[feature_index][usersToIndex[user]]\n",
    "    sv = regularised_song_feature[feature_index][songsToIndex[song]]\n",
    "    \n",
    "    regularised_user_feature[feature_index][usersToIndex[user]] += LearningRate * (err*sv - K*uv)\n",
    "    regularised_song_feature[feature_index][songsToIndex[song]] += LearningRate * (err*uv - K*sv)\n",
    "\n",
    "    return err"
   ]
  },
  {
   "cell_type": "code",
   "execution_count": 50,
   "metadata": {},
   "outputs": [
    {
     "name": "stdout",
     "output_type": "stream",
     "text": [
      "For feature  0 : Err is =  1004913.6334026883  Avg Err is =  0.7223394837399902\n",
      "For feature  1 : Err is =  1004913.6334026883  Avg Err is =  0.7223394837399902\n",
      "For feature  2 : Err is =  1004913.6334026883  Avg Err is =  0.7223394837399902\n",
      "For feature  3 : Err is =  1004913.6334026883  Avg Err is =  0.7223394837399902\n",
      "For feature  4 : Err is =  1004913.6334026883  Avg Err is =  0.7223394837399902\n",
      "For feature  5 : Err is =  1004913.6334026883  Avg Err is =  0.7223394837399902\n",
      "For feature  6 : Err is =  1004913.6334026883  Avg Err is =  0.7223394837399902\n",
      "For feature  7 : Err is =  1004913.6334026883  Avg Err is =  0.7223394837399902\n",
      "For feature  8 : Err is =  1004913.6334026883  Avg Err is =  0.7223394837399902\n",
      "For feature  9 : Err is =  1004913.6334026883  Avg Err is =  0.7223394837399902\n"
     ]
    }
   ],
   "source": [
    "for feature in range(no_features):\n",
    "    err = 0\n",
    "\n",
    "    for user in train_userToSongCount:\n",
    "        for song in train_userToSongCount[user]:\n",
    "            temp = abs(train_regularization(user, song[0], song[1], feature, True))\n",
    "            if(temp != temp):\n",
    "                print(\"temp \",temp)\n",
    "                break\n",
    "            err += temp\n",
    "    \n",
    "    avg_err = err / len(train_data)\n",
    "    print(\"For feature \", feature, \": Err is = \", err, \" Avg Err is = \",avg_err)"
   ]
  },
  {
   "cell_type": "code",
   "execution_count": 48,
   "metadata": {},
   "outputs": [
    {
     "name": "stdout",
     "output_type": "stream",
     "text": [
      "Iteration: 0\n",
      "For feature  0 : Err is =  526875.267369453  Avg Err is =  0.37872190800949473\n",
      "For feature  1 : Err is =  526875.267369453  Avg Err is =  0.37872190800949473\n"
     ]
    },
    {
     "ename": "KeyboardInterrupt",
     "evalue": "",
     "output_type": "error",
     "traceback": [
      "\u001b[1;31m---------------------------------------------------------------------------\u001b[0m",
      "\u001b[1;31mKeyboardInterrupt\u001b[0m                         Traceback (most recent call last)",
      "\u001b[1;32m~\\AppData\\Local\\Temp/ipykernel_18948/3585563018.py\u001b[0m in \u001b[0;36m<module>\u001b[1;34m\u001b[0m\n\u001b[0;32m      7\u001b[0m         \u001b[1;32mfor\u001b[0m \u001b[0muser\u001b[0m \u001b[1;32min\u001b[0m \u001b[0mtrain_userToSongCount\u001b[0m\u001b[1;33m:\u001b[0m\u001b[1;33m\u001b[0m\u001b[1;33m\u001b[0m\u001b[0m\n\u001b[0;32m      8\u001b[0m             \u001b[1;32mfor\u001b[0m \u001b[0msong\u001b[0m \u001b[1;32min\u001b[0m \u001b[0mtrain_userToSongCount\u001b[0m\u001b[1;33m[\u001b[0m\u001b[0muser\u001b[0m\u001b[1;33m]\u001b[0m\u001b[1;33m:\u001b[0m\u001b[1;33m\u001b[0m\u001b[1;33m\u001b[0m\u001b[0m\n\u001b[1;32m----> 9\u001b[1;33m                 \u001b[0mtemp\u001b[0m \u001b[1;33m=\u001b[0m \u001b[0mabs\u001b[0m\u001b[1;33m(\u001b[0m\u001b[0mtrain_regularization\u001b[0m\u001b[1;33m(\u001b[0m\u001b[0muser\u001b[0m\u001b[1;33m,\u001b[0m \u001b[0msong\u001b[0m\u001b[1;33m[\u001b[0m\u001b[1;36m0\u001b[0m\u001b[1;33m]\u001b[0m\u001b[1;33m,\u001b[0m \u001b[0msong\u001b[0m\u001b[1;33m[\u001b[0m\u001b[1;36m1\u001b[0m\u001b[1;33m]\u001b[0m\u001b[1;33m,\u001b[0m\u001b[0mfeature\u001b[0m\u001b[1;33m,\u001b[0m\u001b[1;32mFalse\u001b[0m\u001b[1;33m)\u001b[0m\u001b[1;33m)\u001b[0m\u001b[1;33m\u001b[0m\u001b[1;33m\u001b[0m\u001b[0m\n\u001b[0m\u001b[0;32m     10\u001b[0m                 \u001b[1;32mif\u001b[0m\u001b[1;33m(\u001b[0m\u001b[0mtemp\u001b[0m \u001b[1;33m!=\u001b[0m \u001b[0mtemp\u001b[0m\u001b[1;33m)\u001b[0m\u001b[1;33m:\u001b[0m\u001b[1;33m\u001b[0m\u001b[1;33m\u001b[0m\u001b[0m\n\u001b[0;32m     11\u001b[0m                     \u001b[0mprint\u001b[0m\u001b[1;33m(\u001b[0m\u001b[1;34m\"temp \"\u001b[0m\u001b[1;33m,\u001b[0m\u001b[0mtemp\u001b[0m\u001b[1;33m)\u001b[0m\u001b[1;33m\u001b[0m\u001b[1;33m\u001b[0m\u001b[0m\n",
      "\u001b[1;32m~\\AppData\\Local\\Temp/ipykernel_18948/1521333095.py\u001b[0m in \u001b[0;36mtrain_regularization\u001b[1;34m(user, song, count, feature_index, baseline)\u001b[0m\n\u001b[0;32m      4\u001b[0m         \u001b[0merr\u001b[0m \u001b[1;33m=\u001b[0m \u001b[0mcount\u001b[0m \u001b[1;33m-\u001b[0m \u001b[0mbaseline_prediction\u001b[0m\u001b[1;33m(\u001b[0m\u001b[0muser\u001b[0m\u001b[1;33m,\u001b[0m \u001b[0msong\u001b[0m\u001b[1;33m)\u001b[0m\u001b[1;33m\u001b[0m\u001b[1;33m\u001b[0m\u001b[0m\n\u001b[0;32m      5\u001b[0m     \u001b[1;32melse\u001b[0m\u001b[1;33m:\u001b[0m\u001b[1;33m\u001b[0m\u001b[1;33m\u001b[0m\u001b[0m\n\u001b[1;32m----> 6\u001b[1;33m         \u001b[0merr\u001b[0m \u001b[1;33m=\u001b[0m \u001b[0mcount\u001b[0m \u001b[1;33m-\u001b[0m \u001b[0mprediction_nonlinear\u001b[0m\u001b[1;33m(\u001b[0m\u001b[0muser\u001b[0m\u001b[1;33m,\u001b[0m \u001b[0msong\u001b[0m\u001b[1;33m)\u001b[0m\u001b[1;33m\u001b[0m\u001b[1;33m\u001b[0m\u001b[0m\n\u001b[0m\u001b[0;32m      7\u001b[0m \u001b[1;33m\u001b[0m\u001b[0m\n\u001b[0;32m      8\u001b[0m     \u001b[0muv\u001b[0m \u001b[1;33m=\u001b[0m \u001b[0mregularised_user_feature\u001b[0m\u001b[1;33m[\u001b[0m\u001b[0mfeature_index\u001b[0m\u001b[1;33m]\u001b[0m\u001b[1;33m[\u001b[0m\u001b[0musersToIndex\u001b[0m\u001b[1;33m[\u001b[0m\u001b[0muser\u001b[0m\u001b[1;33m]\u001b[0m\u001b[1;33m]\u001b[0m\u001b[1;33m\u001b[0m\u001b[1;33m\u001b[0m\u001b[0m\n",
      "\u001b[1;32m~\\AppData\\Local\\Temp/ipykernel_18948/2151720633.py\u001b[0m in \u001b[0;36mprediction_nonlinear\u001b[1;34m(user, song)\u001b[0m\n\u001b[0;32m      2\u001b[0m     \u001b[0mpredicted_count\u001b[0m \u001b[1;33m=\u001b[0m \u001b[1;36m0\u001b[0m\u001b[1;33m\u001b[0m\u001b[1;33m\u001b[0m\u001b[0m\n\u001b[0;32m      3\u001b[0m     \u001b[1;32mfor\u001b[0m \u001b[0mi\u001b[0m \u001b[1;32min\u001b[0m \u001b[0mrange\u001b[0m\u001b[1;33m(\u001b[0m\u001b[0mno_features\u001b[0m\u001b[1;33m)\u001b[0m\u001b[1;33m:\u001b[0m\u001b[1;33m\u001b[0m\u001b[1;33m\u001b[0m\u001b[0m\n\u001b[1;32m----> 4\u001b[1;33m         \u001b[0mpredicted_count\u001b[0m \u001b[1;33m+=\u001b[0m \u001b[0mmin\u001b[0m\u001b[1;33m(\u001b[0m\u001b[0muser_feature\u001b[0m\u001b[1;33m[\u001b[0m\u001b[0mi\u001b[0m\u001b[1;33m]\u001b[0m\u001b[1;33m[\u001b[0m\u001b[0musersToIndex\u001b[0m\u001b[1;33m[\u001b[0m\u001b[0muser\u001b[0m\u001b[1;33m]\u001b[0m\u001b[1;33m]\u001b[0m \u001b[1;33m*\u001b[0m \u001b[0msong_feature\u001b[0m\u001b[1;33m[\u001b[0m\u001b[0mi\u001b[0m\u001b[1;33m]\u001b[0m\u001b[1;33m[\u001b[0m\u001b[0msongsToIndex\u001b[0m\u001b[1;33m[\u001b[0m\u001b[0msong\u001b[0m\u001b[1;33m]\u001b[0m\u001b[1;33m]\u001b[0m\u001b[1;33m,\u001b[0m\u001b[1;36m6\u001b[0m\u001b[1;33m)\u001b[0m\u001b[1;33m\u001b[0m\u001b[1;33m\u001b[0m\u001b[0m\n\u001b[0m\u001b[0;32m      5\u001b[0m     \u001b[1;32mreturn\u001b[0m \u001b[0mmin\u001b[0m\u001b[1;33m(\u001b[0m\u001b[0mpredicted_count\u001b[0m\u001b[1;33m,\u001b[0m\u001b[1;36m6\u001b[0m\u001b[1;33m)\u001b[0m\u001b[1;33m\u001b[0m\u001b[1;33m\u001b[0m\u001b[0m\n",
      "\u001b[1;31mKeyboardInterrupt\u001b[0m: "
     ]
    }
   ],
   "source": [
    "interation = 0\n",
    "\n",
    "while(interation < 1):\n",
    "    print(\"Iteration:\", interation)\n",
    "    for feature in range(no_features):\n",
    "        err = 0\n",
    "        for user in train_userToSongCount:\n",
    "            for song in train_userToSongCount[user]:\n",
    "                temp = abs(train_regularization(user, song[0], song[1],feature,False))\n",
    "                if(temp != temp):\n",
    "                    print(\"temp \",temp)\n",
    "                    exit()\n",
    "                    break\n",
    "                err += temp\n",
    "        avg_err = err / len(train_data)\n",
    "        print(\"For feature \", feature, \": Err is = \", err, \" Avg Err is = \",avg_err)\n",
    "        if(avg_err < 0.1):\n",
    "            interation = 500\n",
    "            break\n",
    "    interation += 1"
   ]
  }
 ],
 "metadata": {
  "interpreter": {
   "hash": "d853d0ac6ee2379b1e9a3c8542b1515219198557717fab5192982d9310523a55"
  },
  "kernelspec": {
   "display_name": "Python 3.9.7 64-bit",
   "language": "python",
   "name": "python3"
  },
  "language_info": {
   "codemirror_mode": {
    "name": "ipython",
    "version": 3
   },
   "file_extension": ".py",
   "mimetype": "text/x-python",
   "name": "python",
   "nbconvert_exporter": "python",
   "pygments_lexer": "ipython3",
   "version": "3.9.7"
  },
  "orig_nbformat": 4
 },
 "nbformat": 4,
 "nbformat_minor": 2
}
