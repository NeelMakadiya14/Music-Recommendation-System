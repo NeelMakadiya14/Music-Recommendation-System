{
 "cells": [
  {
   "cell_type": "markdown",
   "metadata": {},
   "source": [
    "## Processing the data"
   ]
  },
  {
   "cell_type": "code",
   "execution_count": 36,
   "metadata": {},
   "outputs": [],
   "source": [
    "count_array = []\n",
    "\n",
    "#Plotting the histogram of count for each entry (i.e. for each user,song pair avaulable in the dataset)\n",
    "with open('kaggle_visible_evaluation_triplets.txt','r') as f:\n",
    "    for line in f:\n",
    "        user, song, count = line.split()\n",
    "        count = int(count)\n",
    "        count_array.append(count)"
   ]
  },
  {
   "cell_type": "code",
   "execution_count": 37,
   "metadata": {},
   "outputs": [
    {
     "data": {
      "text/plain": [
       "Text(0.5, 1.0, 'Count Histogram')"
      ]
     },
     "execution_count": 37,
     "metadata": {},
     "output_type": "execute_result"
    },
    {
     "data": {
      "image/png": "[encoded data removed]",
      "text/plain": [
       "<Figure size 432x288 with 1 Axes>"
      ]
     },
     "metadata": {
      "needs_background": "light"
     },
     "output_type": "display_data"
    }
   ],
   "source": [
    "#Plotting the histogram to get an idea about the distribution of the count values\n",
    "\n",
    "from matplotlib import pyplot as plt \n",
    "import numpy as np  \n",
    "\n",
    "plt.hist(count_array,bins=[0,1,2,3,4,5,10,15,20,40,60,80]) \n",
    "  \n",
    "plt.title(\"Count Histogram\") "
   ]
  },
  {
   "cell_type": "code",
   "execution_count": 4,
   "metadata": {},
   "outputs": [],
   "source": [
    "#From above histogram we have created different class of count values.\n",
    "#Because we have implecit data\n",
    "#We don't have user rattings for song. So, we focused on the user behaviour.\n",
    "#We can have a higher confidence on the song if user has listened to it more than once.\n",
    "\n",
    "\n",
    "#userToSongCount is a dictionary \n",
    "#Where key is the user and value is an array of pairs of song and count\n",
    "userToSongCount = dict()\n",
    "\n",
    "#songToUserCount is a dictionary\n",
    "#Where key is the song and value is an array of pairs of user and count\n",
    "songToUserCount = dict()\n",
    "\n",
    "total_Entries = 0\n",
    "\n",
    "with open('kaggle_visible_evaluation_triplets.txt','r') as f:\n",
    "    for line in f:\n",
    "        user, song, count = line.split()\n",
    "        total_Entries += 1\n",
    "        count = int(count)\n",
    "        if(count>=3):\n",
    "            if(count<=5):\n",
    "                count = 3\n",
    "            elif(count<=10):\n",
    "                count = 4\n",
    "            elif(count<=40):\n",
    "                count = 5\n",
    "            else:\n",
    "                count = 6\n",
    "                \n",
    "        if user in userToSongCount:\n",
    "            userToSongCount[user].append((song,count))\n",
    "        else:\n",
    "            userToSongCount[user] = [(song,count)]\n",
    "\n",
    "        if song in songToUserCount:\n",
    "            songToUserCount[song].append((user,count))\n",
    "        else:\n",
    "            songToUserCount[song] = [(user,count)]\n",
    "\n",
    "#songs is a list of all different songs in the dataset\n",
    "songs = sorted(songToUserCount.keys())\n",
    "#users is a list of all different users in the dataset\n",
    "users = sorted(userToSongCount.keys())\n",
    "\n",
    "#songsToIndex maps each song to its index in the songs list\n",
    "songsToIndex = dict()\n",
    "\n",
    "#usersToIndex maps each user to its index in the users list\n",
    "usersToIndex = dict()\n",
    "\n",
    "for n, song in enumerate(songs, start=0):\n",
    "    songsToIndex[song] = n\n",
    "\n",
    "for n, user in enumerate(users, start=0):\n",
    "    usersToIndex[user] = n\n",
    "\n",
    "totalSongs = len(songs)\n",
    "totalUsers = len(users)"
   ]
  },
  {
   "cell_type": "code",
   "execution_count": 33,
   "metadata": {},
   "outputs": [
    {
     "name": "stdout",
     "output_type": "stream",
     "text": [
      "Total users: 110000\n",
      "Total songs: 163206\n",
      "Total entries: 1450933\n"
     ]
    }
   ],
   "source": [
    "print(\"Total users:\", totalUsers)\n",
    "print(\"Total songs:\", totalSongs)\n",
    "print(\"Total entries:\", total_Entries)"
   ]
  },
  {
   "cell_type": "markdown",
   "metadata": {},
   "source": [
    "## Splitting the data into train test set\n",
    "\n",
    "In factorisation algorithm training dataset must have atleast one entry for every song and user\n",
    "If we split randomly and supposer all entry corresponds to a perticular song went to test data, so after factorisation we don't have any information about that song. So, we can't predict anythig about it and same goes for user."
   ]
  },
  {
   "cell_type": "code",
   "execution_count": 108,
   "metadata": {},
   "outputs": [],
   "source": [
    "#From above histogram we can see that we have engough users and songs which have more than 22 entries.\n",
    "# So, users and songs which have more than 22 entries, we moved 11 entries form that into test set.\n",
    "\n",
    "songEntry = {}\n",
    "userEntry = {}\n",
    "train_data = dict()\n",
    "test_data = dict()\n",
    "\n",
    "for user in userToSongCount:\n",
    "    userEntry[user] = len(userToSongCount[user])\n",
    "\n",
    "for song in songToUserCount:\n",
    "    songEntry[song] = len(songToUserCount[song])\n",
    "\n",
    "for user in userToSongCount:\n",
    "    #if user has less than 24 entries then move all entries into train set\n",
    "    if(userEntry[user]>=22):\n",
    "        mx=0\n",
    "        #Now this user has more than 22 entries\n",
    "        #So. we moved only entries which have enhough entries for that song also.\n",
    "        #We are moving only 11 entries for that user\n",
    "        for(song,count) in userToSongCount[user]:\n",
    "            if(songEntry[song]>=11 and mx<11):\n",
    "                mx+=1\n",
    "                test_data[(user,song)] = count\n",
    "                songEntry[song]-=1 \n",
    "            else:\n",
    "                train_data[(user,song)] = count \n",
    "    else:\n",
    "        for(song,count) in userToSongCount[user]:\n",
    "            train_data[(user,song)] = count"
   ]
  },
  {
   "cell_type": "code",
   "execution_count": 109,
   "metadata": {},
   "outputs": [
    {
     "name": "stdout",
     "output_type": "stream",
     "text": [
      "Length of train data: 1263759\n",
      "Length of test data: 187174\n"
     ]
    }
   ],
   "source": [
    "print(\"Length of train data:\", len(train_data))\n",
    "print(\"Length of test data:\", len(test_data))"
   ]
  },
  {
   "cell_type": "code",
   "execution_count": 110,
   "metadata": {},
   "outputs": [],
   "source": [
    "# We are creating userToSongCount and songToUserCount for train data\n",
    "\n",
    "train_userToSongCount = dict()\n",
    "train_songToUserCount = dict()\n",
    "\n",
    "for (user,song) in train_data:\n",
    "    if user in train_userToSongCount:\n",
    "        train_userToSongCount[user].append((song,train_data[(user,song)]))\n",
    "    else:\n",
    "        train_userToSongCount[user] = [(song,train_data[(user,song)])]\n",
    "\n",
    "    if song in train_songToUserCount:\n",
    "        train_songToUserCount[song].append((user,train_data[(user,song)]))\n",
    "    else:\n",
    "        train_songToUserCount[song] = [(user,train_data[(user,song)])]"
   ]
  },
  {
   "cell_type": "code",
   "execution_count": 111,
   "metadata": {},
   "outputs": [
    {
     "name": "stdout",
     "output_type": "stream",
     "text": [
      "Total users in train data: 110000\n",
      "Total songs in train data: 163206\n"
     ]
    }
   ],
   "source": [
    "train_songs = sorted(train_songToUserCount.keys())\n",
    "train_users = sorted(train_userToSongCount.keys())\n",
    "\n",
    "print(\"Total users in train data:\", len(train_users))\n",
    "print(\"Total songs in train data:\", len(train_songs))"
   ]
  },
  {
   "cell_type": "code",
   "execution_count": 112,
   "metadata": {},
   "outputs": [],
   "source": [
    "#number of latent factors we are considering\n",
    "no_features = 10"
   ]
  },
  {
   "cell_type": "markdown",
   "metadata": {},
   "source": [
    "## Simple Factorisation Algorithm"
   ]
  },
  {
   "cell_type": "code",
   "execution_count": 113,
   "metadata": {},
   "outputs": [],
   "source": [
    "song_averages = {}\n",
    "user_offsets_averages = {}\n",
    "\n",
    "# Calculate average song play count\n",
    "# for given song average is sum of total play counts of that songs / number of users listened that song\n",
    "for song in songs:\n",
    "    song_averages[song] = sum(map(lambda x: x[1], train_songToUserCount[song])) / len(train_songToUserCount[song])\n",
    "\n",
    "\n",
    "# Calculate average user offset\n",
    "# Offset of given song and user = song play count for that user - average song play count of that song\n",
    "# Average offset of a user = sum of offsets of all songs he/she plays / number of songs he/she plays\n",
    "for user in users:\n",
    "    user_offsets_averages[user] = sum(map(lambda x: (x[1] - song_averages[x[0]]), train_userToSongCount[user])) / len(train_userToSongCount[user])\n",
    "\n",
    "# Function to calculate baseline prediction\n",
    "def baseline_prediction(user, song):\n",
    "    return song_averages[song] + user_offsets_averages[user]"
   ]
  },
  {
   "cell_type": "code",
   "execution_count": 114,
   "metadata": {},
   "outputs": [],
   "source": [
    "# For user_feature Matrix\n",
    "rows = no_features\n",
    "cols = totalUsers\n",
    "\n",
    "# Initializing user_feature matrix\n",
    "user_feature = [ [ 0.1 for i in range(cols) ] for j in range(rows) ]\n",
    "\n",
    "# For song_feature Matrix\n",
    "rows = no_features\n",
    "cols = totalSongs\n",
    "\n",
    "# Initializing song_feature matrix\n",
    "song_feature = [ [ 0.1 for i in range(cols) ] for j in range(rows) ]"
   ]
  },
  {
   "cell_type": "code",
   "execution_count": 115,
   "metadata": {},
   "outputs": [],
   "source": [
    "LearningRate = 0.01"
   ]
  },
  {
   "cell_type": "code",
   "execution_count": 116,
   "metadata": {},
   "outputs": [],
   "source": [
    "# To get prediction for a user and a song\n",
    "# We are calculating the dot product of user_feature of that user and song_feature of that song\n",
    "\n",
    "def prediction(user, song):\n",
    "    predicted_count = 0\n",
    "    for i in range(no_features):\n",
    "        predicted_count += user_feature[i][usersToIndex[user]] * song_feature[i][songsToIndex[song]]\n",
    "    return predicted_count"
   ]
  },
  {
   "cell_type": "code",
   "execution_count": 117,
   "metadata": {},
   "outputs": [],
   "source": [
    "#Simple train function\n",
    "def train(user, song, count, feature_index, baseline):\n",
    "    err = 0\n",
    "    if(baseline):\n",
    "        err = count - baseline_prediction(user, song)\n",
    "    else:\n",
    "        err = count - prediction(user, song)\n",
    "        \n",
    "    uv = user_feature[feature_index][usersToIndex[user]]\n",
    "    sv = song_feature[feature_index][songsToIndex[song]]\n",
    "    \n",
    "    user_feature[feature_index][usersToIndex[user]] += LearningRate * err * sv\n",
    "    song_feature[feature_index][songsToIndex[song]] += LearningRate * err * uv\n",
    "\n",
    "    return err"
   ]
  },
  {
   "cell_type": "code",
   "execution_count": 118,
   "metadata": {},
   "outputs": [
    {
     "name": "stdout",
     "output_type": "stream",
     "text": [
      "Avg Err is =  0.7117145137415709\n"
     ]
    }
   ],
   "source": [
    "#Now, we train each feature over whole train data\n",
    "#In first iteration we use baseline prediction (which is sum of average of song play count and average user offset)\n",
    "for feature in range(no_features):\n",
    "    err = 0\n",
    "\n",
    "    for user in train_userToSongCount:\n",
    "        for song in train_userToSongCount[user]:\n",
    "            temp = abs(train(user, song[0], song[1], feature, True))\n",
    "            if(temp != temp):\n",
    "                print(\"temp \",temp)\n",
    "                break\n",
    "            err += temp\n",
    "    \n",
    "    avg_err = err / len(train_data)\n",
    "\n",
    "print(\"Avg Err is = \",avg_err)"
   ]
  },
  {
   "cell_type": "code",
   "execution_count": 119,
   "metadata": {},
   "outputs": [],
   "source": [
    "#Calculating RMSE and MAE for test data\n",
    "\n",
    "def test():\n",
    "    absolute_error = 0\n",
    "    mean_square_error = 0\n",
    "\n",
    "    for (user,song) in test_data:\n",
    "        absolute_error += abs(prediction(user,song) - test_data[(user,song)])\n",
    "        mean_square_error += ( (prediction(user,song) - test_data[(user,song)])**2)\n",
    "\n",
    "    absolute_error = absolute_error/len(test_data)\n",
    "    mean_square_error = mean_square_error/len(test_data)\n",
    "    rmse = (mean_square_error)**0.5\n",
    "\n",
    "    return rmse, absolute_error"
   ]
  },
  {
   "cell_type": "code",
   "execution_count": 122,
   "metadata": {},
   "outputs": [],
   "source": [
    "train_mae_each_iteration = []\n",
    "test_mae_each_iteration = []\n",
    "train_rmse_each_iteration = []\n",
    "test_rmse_each_iteration = []\n"
   ]
  },
  {
   "cell_type": "code",
   "execution_count": null,
   "metadata": {},
   "outputs": [],
   "source": [
    "iteration = 1\n",
    "\n",
    "#Now iterate over train data and train each feature\n",
    "while(iteration < 20):\n",
    "    print(\"Iteration:\", iteration)\n",
    "    for feature in range(no_features):\n",
    "        err = 0\n",
    "        rmse = 0\n",
    "        #Training each feature for each entry in train data\n",
    "        for user in train_userToSongCount:\n",
    "            for song in train_userToSongCount[user]:\n",
    "                temp = abs(train(user, song[0], song[1],feature,False))\n",
    "                err += temp\n",
    "                rmse += temp*temp\n",
    "\n",
    "        #Calculating RMSE and MAE for train data\n",
    "        avg_err = err / len(train_data)\n",
    "        rmse = (rmse/len(train_data))**(0.5)\n",
    "\n",
    "        if(avg_err < 0.1):\n",
    "            interation = 500\n",
    "            break\n",
    "\n",
    "    test_rmse,test_mae = test()\n",
    "\n",
    "    #Appending RMSE and MAE for test data and train data\n",
    "    train_mae_each_iteration.append(avg_err)\n",
    "    train_rmse_each_iteration.append(rmse)\n",
    "    test_mae_each_iteration.append(test_mae)\n",
    "    test_rmse_each_iteration.append(test_rmse)\n",
    "    print(\"Train_MAE =\", avg_err,\"  Train_RMSE =\",rmse)\n",
    "    print(\"Test_MAE =\", test_mae,\"  Test_RMSE =\",test_rmse)    \n",
    "    iteration += 1"
   ]
  },
  {
   "cell_type": "markdown",
   "metadata": {},
   "source": [
    "## Condsidering the Regularization and non-Linear prediction function"
   ]
  },
  {
   "cell_type": "code",
   "execution_count": 186,
   "metadata": {},
   "outputs": [],
   "source": [
    "# To get prediction for a user and a song\n",
    "# We are calculating the dot product of user_feature of that user and song_feature of that song\n",
    "# We know that ratngs are between 1 and 6 so we also use this\n",
    "# That is why we are using 6 as max rating\n",
    "def prediction_nonlinear(user, song):\n",
    "    predicted_count = 0\n",
    "    for i in range(no_features):\n",
    "        predicted_count += min(regularised_user_feature[i][usersToIndex[user]] * regularised_song_feature[i][songsToIndex[song]],6)\n",
    "    return min(predicted_count,6)"
   ]
  },
  {
   "cell_type": "code",
   "execution_count": 187,
   "metadata": {},
   "outputs": [],
   "source": [
    "# For user_feature Matrix\n",
    "rows = no_features\n",
    "cols = totalUsers\n",
    "\n",
    "# Initializing user_feature matrix\n",
    "regularised_user_feature = [ [ 0.1 for i in range(cols) ] for j in range(rows) ]\n",
    "\n",
    "# For song_feature Matrix\n",
    "rows = no_features\n",
    "cols = totalSongs\n",
    "\n",
    "# Initializing song_feature matrix\n",
    "regularised_song_feature = [ [ 0.1 for i in range(cols) ] for j in range(rows) ]"
   ]
  },
  {
   "cell_type": "code",
   "execution_count": 188,
   "metadata": {},
   "outputs": [],
   "source": [
    "K = 0.05"
   ]
  },
  {
   "cell_type": "code",
   "execution_count": 189,
   "metadata": {},
   "outputs": [],
   "source": [
    "#Regularised trian function\n",
    "#Here K is regularisation constant\n",
    "def train_regularization(user, song, count, feature_index, baseline):\n",
    "    err = 0\n",
    "    if(baseline):\n",
    "        err = count - baseline_prediction(user, song)\n",
    "    else:\n",
    "        err = count - prediction_nonlinear(user, song)\n",
    "        \n",
    "    uv = regularised_user_feature[feature_index][usersToIndex[user]]\n",
    "    sv = regularised_song_feature[feature_index][songsToIndex[song]]\n",
    "    \n",
    "    regularised_user_feature[feature_index][usersToIndex[user]] += LearningRate * (err*sv - K*uv)\n",
    "    regularised_song_feature[feature_index][songsToIndex[song]] += LearningRate * (err*uv - K*sv)\n",
    "\n",
    "    return err"
   ]
  },
  {
   "cell_type": "code",
   "execution_count": 190,
   "metadata": {},
   "outputs": [
    {
     "name": "stdout",
     "output_type": "stream",
     "text": [
      "Error :  0.7117145137415709\n"
     ]
    }
   ],
   "source": [
    "#Now, we train each feature over whole train data\n",
    "#In first iteration we use baseline prediction (which is sum of average of song play count and average user offset)\n",
    "for feature in range(no_features):\n",
    "    err = 0\n",
    "\n",
    "    for user in train_userToSongCount:\n",
    "        for song in train_userToSongCount[user]:\n",
    "            temp = abs(train_regularization(user, song[0], song[1], feature, True))\n",
    "            if(temp != temp):\n",
    "                print(\"temp \",temp)\n",
    "                break\n",
    "            err += temp\n",
    "    \n",
    "    avg_err = err / len(train_data)\n",
    "\n",
    "print(\"Error : \",avg_err)"
   ]
  },
  {
   "cell_type": "code",
   "execution_count": 191,
   "metadata": {},
   "outputs": [],
   "source": [
    "#Calculating RMSE and MAE for test data\n",
    "\n",
    "def regularised_test():\n",
    "    absolute_error = 0\n",
    "    mean_square_error = 0\n",
    "\n",
    "    for (user,song) in test_data:\n",
    "        absolute_error += abs(prediction_nonlinear(user,song) - test_data[(user,song)])\n",
    "        mean_square_error += ( (prediction_nonlinear(user,song) - test_data[(user,song)])**2)\n",
    "\n",
    "    absolute_error = absolute_error/len(test_data)\n",
    "    mean_square_error = mean_square_error/len(test_data)\n",
    "    rmse = (mean_square_error)**0.5\n",
    "\n",
    "    return rmse, absolute_error"
   ]
  },
  {
   "cell_type": "code",
   "execution_count": 193,
   "metadata": {},
   "outputs": [],
   "source": [
    "regularised_train_mae_each_iteration = []\n",
    "regularised_test_mae_each_iteration = []\n",
    "regularised_train_rmse_each_iteration = []\n",
    "regularised_test_rmse_each_iteration = []"
   ]
  },
  {
   "cell_type": "code",
   "execution_count": null,
   "metadata": {},
   "outputs": [],
   "source": [
    "iteration = 0\n",
    "\n",
    "while(iteration < 20):\n",
    "    print(\"Iteration:\", iteration)\n",
    "    for feature in range(no_features):\n",
    "        err = 0\n",
    "        for user in train_userToSongCount:\n",
    "            for song in train_userToSongCount[user]:\n",
    "                temp = abs(train_regularization(user, song[0], song[1],feature,False))\n",
    "                rmse += temp*temp\n",
    "                err += temp\n",
    "        \n",
    "        avg_err = err / len(train_data)\n",
    "        rmse = (rmse/len(train_data))**(0.5)\n",
    "\n",
    "        if(avg_err < 0.1):\n",
    "            interation = 500\n",
    "            break\n",
    "\n",
    "    test_rmse,test_mae = regularised_test()\n",
    "\n",
    "    regularised_train_mae_each_iteration.append(avg_err)\n",
    "    regularised_train_rmse_each_iteration.append(rmse)\n",
    "    regularised_test_mae_each_iteration.append(test_mae)\n",
    "    regularised_test_rmse_each_iteration.append(test_rmse)\n",
    "    print(\"Train_MAE =\", avg_err,\"  Train_RMSE =\",rmse)\n",
    "    print(\"Test_MAE =\", test_mae,\"  Test_RMSE =\",test_rmse) \n",
    "    iteration += 1"
   ]
  },
  {
   "cell_type": "markdown",
   "metadata": {},
   "source": [
    "## Conclusion and Plotting of Results"
   ]
  },
  {
   "cell_type": "code",
   "execution_count": 208,
   "metadata": {},
   "outputs": [
    {
     "name": "stdout",
     "output_type": "stream",
     "text": [
      "Minimum achieved test MAE is  0.8903934514537438\n",
      "Minimum achieved test RMSE is  1.1730144385811963\n",
      "Minimum achieved test MAE(in Regularised version) is  0.8794136250046841\n",
      "Minimum achieved test RMSE(in Regularised version) is  1.1545936536461612\n"
     ]
    }
   ],
   "source": [
    "print(\"Minimum achieved test MAE is \",min(test_mae_each_iteration))\n",
    "print(\"Minimum achieved test RMSE is \",min(test_rmse_each_iteration))\n",
    "\n",
    "print(\"Minimum achieved test MAE(in Regularised version) is \",min(regularised_test_mae_each_iteration))\n",
    "print(\"Minimum achieved test RMSE(in Regularised version) is \",min(regularised_test_rmse_each_iteration))"
   ]
  },
  {
   "cell_type": "code",
   "execution_count": 206,
   "metadata": {},
   "outputs": [
    {
     "data": {
      "image/png": "[encoded data removed]",
      "text/plain": [
       "<Figure size 1080x720 with 1 Axes>"
      ]
     },
     "metadata": {
      "needs_background": "light"
     },
     "output_type": "display_data"
    }
   ],
   "source": [
    "plt.figure(figsize=(15,10))\n",
    "plt.scatter(range(1,21),regularised_train_mae_each_iteration,marker=\"*\",label=\"Train MAE(Regularised)\")\n",
    "plt.scatter(range(1,21),regularised_test_mae_each_iteration,marker=\"s\",label=\"Test MAE(Regularised)\")\n",
    "plt.scatter(range(1,21),train_mae_each_iteration,marker=\"d\",label=\"Train MAE\")\n",
    "plt.scatter(range(1,21),test_mae_each_iteration,marker=\"+\",label=\"Test MAE\")\n",
    "plt.legend()\n",
    "plt.show()\n",
    "\n"
   ]
  },
  {
   "cell_type": "code",
   "execution_count": 207,
   "metadata": {},
   "outputs": [
    {
     "data": {
      "image/png": "[encoded data removed]",
      "text/plain": [
       "<Figure size 1080x720 with 1 Axes>"
      ]
     },
     "metadata": {
      "needs_background": "light"
     },
     "output_type": "display_data"
    }
   ],
   "source": [
    "plt.figure(figsize=(15,10))\n",
    "plt.scatter(range(1,21),regularised_train_rmse_each_iteration,marker=\"*\",label=\"Train RMSE(Regularised)\")\n",
    "plt.scatter(range(1,21),regularised_test_rmse_each_iteration,marker=\"s\",label=\"Test RMSE(Regularised)\")\n",
    "plt.scatter(range(1,21),train_rmse_each_iteration,marker=\"d\",label=\"Train RMSE\")\n",
    "plt.scatter(range(1,21),test_rmse_each_iteration,marker=\"+\",label=\"Test RMSE\")\n",
    "plt.legend()\n",
    "plt.show()"
   ]
  },
  {
   "cell_type": "code",
   "execution_count": 182,
   "metadata": {},
   "outputs": [],
   "source": [
    "import numpy as np\n",
    "\n",
    "np.savetxt(\"regularised_train_mae_each_iteration.txt\", regularised_train_mae_each_iteration)\n",
    "np.savetxt(\"regularised_test_mae_each_iteration.txt\", regularised_test_mae_each_iteration)\n",
    "np.savetxt(\"regularised_train_rmse_each_iteration.txt\", regularised_train_rmse_each_iteration)\n",
    "np.savetxt(\"regularised_test_rmse_each_iteration.txt\", regularised_test_rmse_each_iteration)\n",
    "\n",
    "np.savetxt(\"train_mae_each_iteration.txt\",train_mae_each_iteration)\n",
    "np.savetxt(\"test_mae_each_iteration.txt\",test_mae_each_iteration)\n",
    "np.savetxt(\"train_rmse_each_iteration.txt\",train_rmse_each_iteration)\n",
    "np.savetxt(\"test_rmse_each_iteration.txt\",test_rmse_each_iteration)"
   ]
  },
  {
   "cell_type": "code",
   "execution_count": 196,
   "metadata": {},
   "outputs": [],
   "source": [
    "np.savetxt(\"regularised_train_mae_each_iteration_k10.txt\", regularised_train_mae_each_iteration)\n",
    "np.savetxt(\"regularised_test_mae_each_iteration_k10.txt\", regularised_test_mae_each_iteration)\n",
    "np.savetxt(\"regularised_train_rmse_each_iteration_k10.txt\", regularised_train_rmse_each_iteration)\n",
    "np.savetxt(\"regularised_test_rmse_each_iteration_k10.txt\", regularised_test_rmse_each_iteration)"
   ]
  },
  {
   "cell_type": "code",
   "execution_count": 197,
   "metadata": {},
   "outputs": [],
   "source": [
    "#regularised_train_mae_each_iteration = np.loadtxt(\"regularised_train_mae_each_iteration.txt\")\n",
    "#regularised_test_mae_each_iteration = np.loadtxt(\"regularised_test_mae_each_iteration.txt\")\n",
    "#regularised_train_rmse_each_iteration = np.loadtxt(\"regularised_train_rmse_each_iteration.txt\")\n",
    "#regularised_test_rmse_each_iteration = np.loadtxt(\"regularised_test_rmse_each_iteration.txt\")"
   ]
  }
 ],
 "metadata": {
  "interpreter": {
   "hash": "d853d0ac6ee2379b1e9a3c8542b1515219198557717fab5192982d9310523a55"
  },
  "kernelspec": {
   "display_name": "Python 3.9.7 64-bit",
   "language": "python",
   "name": "python3"
  },
  "language_info": {
   "codemirror_mode": {
    "name": "ipython",
    "version": 3
   },
   "file_extension": ".py",
   "mimetype": "text/x-python",
   "name": "python",
   "nbconvert_exporter": "python",
   "pygments_lexer": "ipython3",
   "version": "3.9.7"
  },
  "orig_nbformat": 4
 },
 "nbformat": 4,
 "nbformat_minor": 2
}
