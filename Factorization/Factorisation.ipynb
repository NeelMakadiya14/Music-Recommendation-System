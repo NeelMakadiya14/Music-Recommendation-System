{
 "cells": [
  {
   "cell_type": "markdown",
   "metadata": {},
   "source": [
    "## Processing the data"
   ]
  },
  {
   "cell_type": "code",
   "execution_count": 2,
   "metadata": {},
   "outputs": [],
   "source": [
    "import os.path\n",
    "from matplotlib import pyplot as plt \n",
    "import numpy as np  "
   ]
  },
  {
   "cell_type": "code",
   "execution_count": 3,
   "metadata": {},
   "outputs": [],
   "source": [
    "count_array = []\n",
    "\n",
    "#Plotting the histogram of count for each entry (i.e. for each user,song pair avaulable in the dataset)\n",
    "path = os.getcwd()\n",
    "with open(os.path.dirname(path) + '/Data/year1_triplets_visible.txt','r') as f:\n",
    "    for line in f:\n",
    "        user, song, count = line.split()\n",
    "        count = int(count)\n",
    "        count_array.append(count)"
   ]
  },
  {
   "cell_type": "code",
   "execution_count": 4,
   "metadata": {},
   "outputs": [
    {
     "data": {
      "text/plain": [
       "Text(0.5, 1.0, 'Count Histogram')"
      ]
     },
     "execution_count": 4,
     "metadata": {},
     "output_type": "execute_result"
    },
    {
     "data": {
      "image/png": "[encoded data removed]",
      "text/plain": [
       "<Figure size 432x288 with 1 Axes>"
      ]
     },
     "metadata": {
      "needs_background": "light"
     },
     "output_type": "display_data"
    }
   ],
   "source": [
    "#Plotting the histogram to get an idea about the distribution of the count values\n",
    "plt.hist(count_array,bins=[0,1,2,3,4,5,10,15,20,40,60,80]) \n",
    "  \n",
    "plt.title(\"Count Histogram\") "
   ]
  },
  {
   "cell_type": "code",
   "execution_count": 24,
   "metadata": {},
   "outputs": [],
   "source": [
    "#From above histogram we have created different class of count values.\n",
    "#Because we have implecit data\n",
    "#We don't have user rattings for song. So, we focused on the user behaviour.\n",
    "#We can have a higher confidence on the song if user has listened to it more than once.\n",
    "\n",
    "\n",
    "#userToSongCount is a dictionary \n",
    "#Where key is the user and value is an array of pairs of song and count\n",
    "train_userToSongCount = dict()\n",
    "\n",
    "#songToUserCount is a dictionary\n",
    "#Where key is the song and value is an array of pairs of user and count\n",
    "train_songToUserCount = dict()\n",
    "\n",
    "total_Entries = 0\n",
    "\n",
    "with open(os.path.dirname(path) + '/Data/year1_triplets_visible.txt','r') as f:\n",
    "    for line in f:\n",
    "        user, song, count = line.split()\n",
    "        total_Entries += 1\n",
    "        count = int(count)\n",
    "        if(count>=3):\n",
    "            if(count<=5):\n",
    "                count = 3\n",
    "            elif(count<=10):\n",
    "                count = 4\n",
    "            elif(count<=40):\n",
    "                count = 5\n",
    "            else:\n",
    "                count = 6\n",
    "                \n",
    "        if user in train_userToSongCount:\n",
    "            train_userToSongCount[user].append((song,count))\n",
    "        else:\n",
    "            train_userToSongCount[user] = [(song,count)]\n",
    "\n",
    "        if song in train_songToUserCount:\n",
    "            train_songToUserCount[song].append((user,count))\n",
    "        else:\n",
    "            train_songToUserCount[song] = [(user,count)]\n",
    "\n",
    "#songs is a list of all different songs in the dataset\n",
    "songs = sorted(train_songToUserCount.keys())\n",
    "#users is a list of all different users in the dataset\n",
    "users = sorted(train_userToSongCount.keys())\n",
    "\n",
    "#songsToIndex maps each song to its index in the songs list\n",
    "songsToIndex = dict()\n",
    "\n",
    "#usersToIndex maps each user to its index in the users list\n",
    "usersToIndex = dict()\n",
    "\n",
    "for n, song in enumerate(songs, start=0):\n",
    "    songsToIndex[song] = n\n",
    "\n",
    "for n, user in enumerate(users, start=0):\n",
    "    usersToIndex[user] = n\n",
    "\n",
    "totalSongs = len(songs)\n",
    "totalUsers = len(users)"
   ]
  },
  {
   "cell_type": "code",
   "execution_count": 25,
   "metadata": {},
   "outputs": [
    {
     "name": "stdout",
     "output_type": "stream",
     "text": [
      "Total users in Train Data: 100000\n",
      "Total songs in Train Data: 157251\n",
      "Total entries in Train Data: 1319894\n"
     ]
    }
   ],
   "source": [
    "print(\"Total users in Train Data:\", totalUsers)\n",
    "print(\"Total songs in Train Data:\", totalSongs)\n",
    "print(\"Total entries in Train Data:\", total_Entries)"
   ]
  },
  {
   "cell_type": "code",
   "execution_count": 26,
   "metadata": {},
   "outputs": [],
   "source": [
    "#Now reading the test data\n",
    "\n",
    "#test_data is dictonary where key is the (user,song) pair and value is count(rating)\n",
    "test_data = dict()\n",
    "\n",
    "with open(os.path.dirname(path) + '/Data/year1_triplets_hidden.txt','r') as f:\n",
    "    for line in f:\n",
    "        user, song, count = line.split()\n",
    "        total_Entries += 1\n",
    "        count = int(count)\n",
    "        if(count>=3):\n",
    "            if(count<=5):\n",
    "                count = 3\n",
    "            elif(count<=10):\n",
    "                count = 4\n",
    "            elif(count<=40):\n",
    "                count = 5\n",
    "            else:\n",
    "                count = 6\n",
    "        test_data[(user,song)] = count"
   ]
  },
  {
   "cell_type": "code",
   "execution_count": 78,
   "metadata": {},
   "outputs": [],
   "source": [
    "testing_users = []\n",
    "\n",
    "with open(os.path.dirname(path) + '/Data/testing_500_users_sorted.txt','r') as f:\n",
    "    for line in f:\n",
    "        testing_users.append(line.strip())"
   ]
  },
  {
   "cell_type": "code",
   "execution_count": 28,
   "metadata": {},
   "outputs": [],
   "source": [
    "#number of latent factors we are considering\n",
    "no_features = 7"
   ]
  },
  {
   "cell_type": "markdown",
   "metadata": {},
   "source": [
    "## Simple Factorisation Algorithm"
   ]
  },
  {
   "cell_type": "code",
   "execution_count": 29,
   "metadata": {},
   "outputs": [],
   "source": [
    "song_averages = {}\n",
    "user_offsets_averages = {}\n",
    "\n",
    "# Calculate average song play count\n",
    "# for given song average is sum of total play counts of that songs / number of users listened that song\n",
    "for song in songs:\n",
    "    song_averages[song] = sum(map(lambda x: x[1], train_songToUserCount[song])) / len(train_songToUserCount[song])\n",
    "\n",
    "\n",
    "# Calculate average user offset\n",
    "# Offset of given song and user = song play count for that user - average song play count of that song\n",
    "# Average offset of a user = sum of offsets of all songs he/she plays / number of songs he/she plays\n",
    "for user in users:\n",
    "    user_offsets_averages[user] = sum(map(lambda x: (x[1] - song_averages[x[0]]), train_userToSongCount[user])) / len(train_userToSongCount[user])\n",
    "\n",
    "# Function to calculate baseline prediction\n",
    "def baseline_prediction(user, song):\n",
    "    return song_averages[song] + user_offsets_averages[user]"
   ]
  },
  {
   "cell_type": "code",
   "execution_count": 55,
   "metadata": {},
   "outputs": [],
   "source": [
    "# For user_feature Matrix\n",
    "rows = no_features\n",
    "cols = totalUsers\n",
    "\n",
    "# Initializing user_feature matrix\n",
    "user_feature = [ [ 0.1 for i in range(cols) ] for j in range(rows) ]\n",
    "\n",
    "# For song_feature Matrix\n",
    "rows = no_features\n",
    "cols = totalSongs\n",
    "\n",
    "# Initializing song_feature matrix\n",
    "song_feature = [ [ 0.1 for i in range(cols) ] for j in range(rows) ]"
   ]
  },
  {
   "cell_type": "code",
   "execution_count": 56,
   "metadata": {},
   "outputs": [],
   "source": [
    "LearningRate = 0.01"
   ]
  },
  {
   "cell_type": "code",
   "execution_count": 57,
   "metadata": {},
   "outputs": [],
   "source": [
    "# To get prediction for a user and a song\n",
    "# We are calculating the dot product of user_feature of that user and song_feature of that song\n",
    "\n",
    "def prediction(user, song):\n",
    "    predicted_count = 0\n",
    "    for i in range(no_features):\n",
    "        predicted_count += user_feature[i][usersToIndex[user]] * song_feature[i][songsToIndex[song]]\n",
    "    return predicted_count"
   ]
  },
  {
   "cell_type": "code",
   "execution_count": 58,
   "metadata": {},
   "outputs": [],
   "source": [
    "#Simple train function\n",
    "def train(user, song, count, feature_index, baseline):\n",
    "    err = 0\n",
    "    if(baseline):\n",
    "        err = count - baseline_prediction(user, song)\n",
    "    else:\n",
    "        err = count - prediction(user, song)\n",
    "        \n",
    "    uv = user_feature[feature_index][usersToIndex[user]]\n",
    "    sv = song_feature[feature_index][songsToIndex[song]]\n",
    "    \n",
    "    user_feature[feature_index][usersToIndex[user]] += LearningRate * err * sv\n",
    "    song_feature[feature_index][songsToIndex[song]] += LearningRate * err * uv\n",
    "\n",
    "    return err"
   ]
  },
  {
   "cell_type": "code",
   "execution_count": null,
   "metadata": {},
   "outputs": [],
   "source": [
    "#Now, we train each feature over whole train data\n",
    "#In first iteration we use baseline prediction (which is sum of average of song play count and average user offset)\n",
    "for feature in range(no_features):\n",
    "    err = 0\n",
    "\n",
    "    for user in train_userToSongCount:\n",
    "        for song in train_userToSongCount[user]:\n",
    "            temp = abs(train(user, song[0], song[1], feature, True))\n",
    "            if(temp != temp):\n",
    "                print(\"temp \",temp)\n",
    "                break\n",
    "            err += temp\n",
    "    \n",
    "    avg_err = err / total_Entries"
   ]
  },
  {
   "cell_type": "code",
   "execution_count": 60,
   "metadata": {},
   "outputs": [],
   "source": [
    "#Calculating RMSE and MAE for test data\n",
    "\n",
    "def test():\n",
    "    absolute_error = 0\n",
    "    mean_square_error = 0\n",
    "\n",
    "    for (user,song) in test_data:\n",
    "        if(user not in train_userToSongCount or song not in train_songToUserCount):\n",
    "            continue\n",
    "        absolute_error += abs(prediction(user,song) - test_data[(user,song)])\n",
    "        mean_square_error += ( (prediction(user,song) - test_data[(user,song)])**2)\n",
    "\n",
    "    absolute_error = absolute_error/len(test_data)\n",
    "    mean_square_error = mean_square_error/len(test_data)\n",
    "    rmse = (mean_square_error)**0.5\n",
    "\n",
    "    return rmse, absolute_error"
   ]
  },
  {
   "cell_type": "code",
   "execution_count": 61,
   "metadata": {},
   "outputs": [],
   "source": [
    "train_mae_each_iteration = []\n",
    "test_mae_each_iteration = []\n",
    "train_rmse_each_iteration = []\n",
    "test_rmse_each_iteration = []\n"
   ]
  },
  {
   "cell_type": "code",
   "execution_count": 123,
   "metadata": {},
   "outputs": [
    {
     "name": "stdout",
     "output_type": "stream",
     "text": [
      "Iteration: 45\n",
      "Train_MAE = 0.25874967151588807   Train_RMSE = 0.5031847783627688\n",
      "Test_MAE = 0.8484464464026678   Test_RMSE = 1.197614520726031\n",
      "Iteration: 46\n",
      "Train_MAE = 0.2561625472084806   Train_RMSE = 0.49846542666431165\n",
      "Test_MAE = 0.8507574135395691   Test_RMSE = 1.2016038439771124\n",
      "Iteration: 47\n",
      "Train_MAE = 0.2536168516363435   Train_RMSE = 0.493813552612021\n",
      "Test_MAE = 0.8530859515834681   Test_RMSE = 1.2055957026952215\n",
      "Iteration: 48\n",
      "Train_MAE = 0.25111280575168593   Train_RMSE = 0.48922965857301975\n",
      "Test_MAE = 0.8554255825836856   Test_RMSE = 1.209582761535723\n",
      "Iteration: 49\n",
      "Train_MAE = 0.24865317254811534   Train_RMSE = 0.48471410303309254\n",
      "Test_MAE = 0.8577671774830696   Test_RMSE = 1.2135587070510787\n"
     ]
    }
   ],
   "source": [
    "iteration = 45\n",
    "\n",
    "#Now iterate over train data and train each feature\n",
    "while(iteration < 50):\n",
    "    print(\"Iteration:\", iteration)\n",
    "    for feature in range(no_features):\n",
    "        err = 0\n",
    "        rmse = 0\n",
    "        #Training each feature for each entry in train data\n",
    "        for user in train_userToSongCount:\n",
    "            for song in train_userToSongCount[user]:\n",
    "                temp = abs(train(user, song[0], song[1],feature,False))\n",
    "                err += temp\n",
    "                rmse += temp*temp\n",
    "\n",
    "        #Calculating RMSE and MAE for train data\n",
    "        avg_err = err / total_Entries\n",
    "        rmse = (rmse/total_Entries)**(0.5)\n",
    "\n",
    "        if(avg_err < 0.1):\n",
    "            interation = 500\n",
    "            break\n",
    "\n",
    "    test_rmse,test_mae = test()\n",
    "\n",
    "    #Appending RMSE and MAE for test data and train data\n",
    "    train_mae_each_iteration.append(avg_err)\n",
    "    train_rmse_each_iteration.append(rmse)\n",
    "    test_mae_each_iteration.append(test_mae)\n",
    "    test_rmse_each_iteration.append(test_rmse)\n",
    "    print(\"Train_MAE =\", avg_err,\"  Train_RMSE =\",rmse)\n",
    "    print(\"Test_MAE =\", test_mae,\"  Test_RMSE =\",test_rmse)    \n",
    "    iteration += 1"
   ]
  },
  {
   "cell_type": "code",
   "execution_count": 65,
   "metadata": {},
   "outputs": [],
   "source": [
    "import numpy as np\n",
    "np.savetxt(\"user_feature.txt\", user_feature)\n",
    "np.savetxt(\"song_feature.txt\", song_feature)"
   ]
  },
  {
   "cell_type": "code",
   "execution_count": 69,
   "metadata": {},
   "outputs": [],
   "source": [
    "user_feature = np.loadtxt(\"user_feature.txt\")\n",
    "song_feature = np.loadtxt(\"song_feature.txt\")"
   ]
  },
  {
   "cell_type": "code",
   "execution_count": 80,
   "metadata": {},
   "outputs": [],
   "source": [
    "#recommendation is a dictionary of user to list of songs\n",
    "recommendations = dict()\n",
    "for user in testing_users:\n",
    "    song_rating_dict = dict()\n",
    "    for song in songs:\n",
    "        song_rating_dict[song] = prediction(user,song)\n",
    "    recommendation = sorted(song_rating_dict.items(), key=lambda item: item[1], reverse=True)[:30] #top 30 songs\n",
    "    recommendations[user] = list(map(lambda x: x[0], recommendation)) "
   ]
  },
  {
   "cell_type": "code",
   "execution_count": 95,
   "metadata": {},
   "outputs": [],
   "source": [
    "import json\n",
    "with open(\"factorization_recommendations.json\", \"w\") as outfile:\n",
    "    json.dump(recommendations, outfile)"
   ]
  },
  {
   "cell_type": "code",
   "execution_count": 96,
   "metadata": {},
   "outputs": [],
   "source": [
    "import json\n",
    "# Opening JSON file\n",
    "with open('factorization_recommendations.json') as json_file:\n",
    "    data = json.load(json_file)"
   ]
  },
  {
   "cell_type": "markdown",
   "metadata": {},
   "source": [
    "## Condsidering the Regularization and non-Linear prediction function"
   ]
  },
  {
   "cell_type": "code",
   "execution_count": 81,
   "metadata": {},
   "outputs": [],
   "source": [
    "# To get prediction for a user and a song\n",
    "# We are calculating the dot product of user_feature of that user and song_feature of that song\n",
    "# We know that ratngs are between 1 and 6 so we also use this\n",
    "# That is why we are using 6 as max rating\n",
    "def prediction_nonlinear(user, song):\n",
    "    predicted_count = 0\n",
    "    for i in range(no_features):\n",
    "        predicted_count += min(regularised_user_feature[i][usersToIndex[user]] * regularised_song_feature[i][songsToIndex[song]],6)\n",
    "    return min(predicted_count,6)"
   ]
  },
  {
   "cell_type": "code",
   "execution_count": 82,
   "metadata": {},
   "outputs": [],
   "source": [
    "# For user_feature Matrix\n",
    "rows = no_features\n",
    "cols = totalUsers\n",
    "\n",
    "# Initializing user_feature matrix\n",
    "regularised_user_feature = [ [ 0.1 for i in range(cols) ] for j in range(rows) ]\n",
    "\n",
    "# For song_feature Matrix\n",
    "rows = no_features\n",
    "cols = totalSongs\n",
    "\n",
    "# Initializing song_feature matrix\n",
    "regularised_song_feature = [ [ 0.1 for i in range(cols) ] for j in range(rows) ]"
   ]
  },
  {
   "cell_type": "code",
   "execution_count": 83,
   "metadata": {},
   "outputs": [],
   "source": [
    "K = 0.05"
   ]
  },
  {
   "cell_type": "code",
   "execution_count": 85,
   "metadata": {},
   "outputs": [],
   "source": [
    "#Regularised trian function\n",
    "#Here K is regularisation constant\n",
    "def train_regularization(user, song, count, feature_index, baseline):\n",
    "    err = 0\n",
    "    if(baseline):\n",
    "        err = count - baseline_prediction(user, song)\n",
    "    else:\n",
    "        err = count - prediction_nonlinear(user, song)\n",
    "        \n",
    "    uv = regularised_user_feature[feature_index][usersToIndex[user]]\n",
    "    sv = regularised_song_feature[feature_index][songsToIndex[song]]\n",
    "    \n",
    "    regularised_user_feature[feature_index][usersToIndex[user]] += LearningRate * (err*sv - K*uv)\n",
    "    regularised_song_feature[feature_index][songsToIndex[song]] += LearningRate * (err*uv - K*sv)\n",
    "\n",
    "    return err"
   ]
  },
  {
   "cell_type": "code",
   "execution_count": 86,
   "metadata": {},
   "outputs": [
    {
     "name": "stdout",
     "output_type": "stream",
     "text": [
      "Error :  0.3561994158715749\n"
     ]
    }
   ],
   "source": [
    "#Now, we train each feature over whole train data\n",
    "#In first iteration we use baseline prediction (which is sum of average of song play count and average user offset)\n",
    "for feature in range(no_features):\n",
    "    err = 0\n",
    "\n",
    "    for user in train_userToSongCount:\n",
    "        for song in train_userToSongCount[user]:\n",
    "            temp = abs(train_regularization(user, song[0], song[1], feature, True))\n",
    "            if(temp != temp):\n",
    "                print(\"temp \",temp)\n",
    "                break\n",
    "            err += temp\n",
    "    \n",
    "    avg_err = err / total_Entries\n",
    "\n",
    "print(\"Error : \",avg_err)"
   ]
  },
  {
   "cell_type": "code",
   "execution_count": 101,
   "metadata": {},
   "outputs": [],
   "source": [
    "#Calculating RMSE and MAE for test data\n",
    "\n",
    "def regularised_test():\n",
    "    absolute_error = 0\n",
    "    mean_square_error = 0\n",
    "\n",
    "    for (user,song) in test_data:\n",
    "        if(user not in train_userToSongCount or song not in train_songToUserCount):\n",
    "            continue\n",
    "        absolute_error += abs(prediction_nonlinear(user,song) - test_data[(user,song)])\n",
    "        mean_square_error += ( (prediction_nonlinear(user,song) - test_data[(user,song)])**2)\n",
    "\n",
    "    absolute_error = absolute_error/len(test_data)\n",
    "    mean_square_error = mean_square_error/len(test_data)\n",
    "    rmse = (mean_square_error)**0.5\n",
    "\n",
    "    return rmse, absolute_error"
   ]
  },
  {
   "cell_type": "code",
   "execution_count": 102,
   "metadata": {},
   "outputs": [],
   "source": [
    "regularised_train_mae_each_iteration = []\n",
    "regularised_test_mae_each_iteration = []\n",
    "regularised_train_rmse_each_iteration = []\n",
    "regularised_test_rmse_each_iteration = []"
   ]
  },
  {
   "cell_type": "code",
   "execution_count": 124,
   "metadata": {},
   "outputs": [
    {
     "name": "stdout",
     "output_type": "stream",
     "text": [
      "Iteration: 45\n",
      "Train_MAE = 0.2982272848985   Train_RMSE = 0.5712331565043655\n",
      "Test_MAE = 0.7996874462629181   Test_RMSE = 1.1143962077245577\n",
      "Iteration: 46\n",
      "Train_MAE = 0.2964232902356486   Train_RMSE = 0.5680937723845927\n",
      "Test_MAE = 0.8002431666835995   Test_RMSE = 1.115594738041443\n",
      "Iteration: 47\n",
      "Train_MAE = 0.294632329665642   Train_RMSE = 0.5649772032310965\n",
      "Test_MAE = 0.8008188978624923   Test_RMSE = 1.116825826209116\n",
      "Iteration: 48\n",
      "Train_MAE = 0.29285371852277636   Train_RMSE = 0.5618815973275025\n",
      "Test_MAE = 0.8014163391672985   Test_RMSE = 1.1180864051303363\n",
      "Iteration: 49\n",
      "Train_MAE = 0.29108659144375165   Train_RMSE = 0.5588053103732314\n",
      "Test_MAE = 0.8020322008189578   Test_RMSE = 1.1193737381124444\n"
     ]
    }
   ],
   "source": [
    "iteration = 45\n",
    "\n",
    "while(iteration < 50):\n",
    "    print(\"Iteration:\", iteration)\n",
    "    for feature in range(no_features):\n",
    "        err = 0\n",
    "        for user in train_userToSongCount:\n",
    "            for song in train_userToSongCount[user]:\n",
    "                temp = abs(train_regularization(user, song[0], song[1],feature,False))\n",
    "                rmse += temp*temp\n",
    "                err += temp\n",
    "        \n",
    "        avg_err = err / total_Entries\n",
    "        rmse = (rmse/total_Entries)**(0.5)\n",
    "\n",
    "        if(avg_err < 0.1):\n",
    "            interation = 500\n",
    "            break\n",
    "\n",
    "    test_rmse,test_mae = regularised_test()\n",
    "\n",
    "    regularised_train_mae_each_iteration.append(avg_err)\n",
    "    regularised_train_rmse_each_iteration.append(rmse)\n",
    "    regularised_test_mae_each_iteration.append(test_mae)\n",
    "    regularised_test_rmse_each_iteration.append(test_rmse)\n",
    "    print(\"Train_MAE =\", avg_err,\"  Train_RMSE =\",rmse)\n",
    "    print(\"Test_MAE =\", test_mae,\"  Test_RMSE =\",test_rmse) \n",
    "    iteration += 1"
   ]
  },
  {
   "cell_type": "code",
   "execution_count": 108,
   "metadata": {},
   "outputs": [],
   "source": [
    "np.savetxt(\"regularised_user_feature.txt\", regularised_user_feature)\n",
    "np.savetxt(\"regularised_song_feature.txt\", regularised_song_feature)"
   ]
  },
  {
   "cell_type": "code",
   "execution_count": 112,
   "metadata": {},
   "outputs": [],
   "source": [
    "#recommendation is a dictionary of user to list of songs\n",
    "recommendations_regularizaiton = dict()\n",
    "for user in testing_users:\n",
    "    song_rating_dict = dict()\n",
    "    for song in songs:\n",
    "        song_rating_dict[song] = prediction_nonlinear(user,song)\n",
    "    recommendation = sorted(song_rating_dict.items(), key=lambda item: item[1], reverse=True)[:30] #top 30 songs\n",
    "    recommendations_regularizaiton[user] = list(map(lambda x: x[0], recommendation)) "
   ]
  },
  {
   "cell_type": "code",
   "execution_count": 113,
   "metadata": {},
   "outputs": [],
   "source": [
    "import json\n",
    "with open(\"factorization_recommendations_regularization.json\", \"w\") as outfile:\n",
    "    json.dump(recommendations_regularizaiton, outfile)"
   ]
  },
  {
   "cell_type": "code",
   "execution_count": 114,
   "metadata": {},
   "outputs": [],
   "source": [
    "import json\n",
    "# Opening JSON file\n",
    "with open('factorization_recommendations_regularization.json') as json_file:\n",
    "    data = json.load(json_file)"
   ]
  },
  {
   "cell_type": "markdown",
   "metadata": {},
   "source": [
    "## Conclusion and Plotting of Results"
   ]
  },
  {
   "cell_type": "code",
   "execution_count": 130,
   "metadata": {},
   "outputs": [
    {
     "name": "stdout",
     "output_type": "stream",
     "text": [
      "Minimum test MAE =  0.8140255107576854 achieved at iteration :  23\n",
      "Minimum test RMSE =  1.1336004633075791 achieved at iteration :  22\n",
      "Minimum test MAE(in Regularised version) =  0.795276731087748 achieved at iteration :  32\n",
      "Minimum test RMSE(in Regularised version) =  1.1032408552165143 achieved at iteration :  30\n"
     ]
    }
   ],
   "source": [
    "print(\"Minimum test MAE = \",min(test_mae_each_iteration),\"achieved at iteration : \",test_mae_each_iteration.index(min(test_mae_each_iteration))+1)\n",
    "print(\"Minimum test RMSE = \",min(test_rmse_each_iteration),\"achieved at iteration : \",test_rmse_each_iteration.index(min(test_rmse_each_iteration))+1)\n",
    "\n",
    "print(\"Minimum test MAE(in Regularised version) = \",min(regularised_test_mae_each_iteration),\"achieved at iteration : \",regularised_test_mae_each_iteration.index(min(regularised_test_mae_each_iteration))+1)\n",
    "print(\"Minimum test RMSE(in Regularised version) = \",min(regularised_test_rmse_each_iteration),\"achieved at iteration : \",regularised_test_rmse_each_iteration.index(min(regularised_test_rmse_each_iteration))+1)"
   ]
  },
  {
   "cell_type": "code",
   "execution_count": 128,
   "metadata": {},
   "outputs": [
    {
     "data": {
      "image/png": "[encoded data removed]",
      "text/plain": [
       "<Figure size 720x504 with 1 Axes>"
      ]
     },
     "metadata": {
      "needs_background": "light"
     },
     "output_type": "display_data"
    }
   ],
   "source": [
    "plt.figure(figsize=(10,7))\n",
    "plt.scatter(range(1,51),regularised_train_mae_each_iteration,marker=\"*\",label=\"Train MAE(Regularised)\")\n",
    "plt.scatter(range(1,51),regularised_test_mae_each_iteration,marker=\"s\",label=\"Test MAE(Regularised)\")\n",
    "plt.scatter(range(1,51),train_mae_each_iteration,marker=\"d\",label=\"Train MAE\")\n",
    "plt.scatter(range(1,51),test_mae_each_iteration,marker=\"+\",label=\"Test MAE\")\n",
    "plt.xlabel(\"Iterations\")\n",
    "plt.ylabel(\"MAE\")\n",
    "plt.legend()\n",
    "plt.show()\n",
    "\n"
   ]
  },
  {
   "cell_type": "code",
   "execution_count": 129,
   "metadata": {},
   "outputs": [
    {
     "data": {
      "image/png": "[encoded data removed]",
      "text/plain": [
       "<Figure size 720x504 with 1 Axes>"
      ]
     },
     "metadata": {
      "needs_background": "light"
     },
     "output_type": "display_data"
    }
   ],
   "source": [
    "plt.figure(figsize=(10,7))\n",
    "plt.scatter(range(1,51),regularised_train_rmse_each_iteration,marker=\"*\",label=\"Train RMSE(Regularised)\")\n",
    "plt.scatter(range(1,51),regularised_test_rmse_each_iteration,marker=\"s\",label=\"Test RMSE(Regularised)\")\n",
    "plt.scatter(range(1,51),train_rmse_each_iteration,marker=\"d\",label=\"Train RMSE\")\n",
    "plt.scatter(range(1,51),test_rmse_each_iteration,marker=\"+\",label=\"Test RMSE\")\n",
    "plt.xlabel(\"Iterations\")\n",
    "plt.ylabel(\"RMSE\")\n",
    "plt.legend()\n",
    "plt.show()"
   ]
  },
  {
   "cell_type": "code",
   "execution_count": 127,
   "metadata": {},
   "outputs": [],
   "source": [
    "import numpy as np\n",
    "\n",
    "np.savetxt(\"regularised_train_mae_each_iteration.txt\", regularised_train_mae_each_iteration)\n",
    "np.savetxt(\"regularised_test_mae_each_iteration.txt\", regularised_test_mae_each_iteration)\n",
    "np.savetxt(\"regularised_train_rmse_each_iteration.txt\", regularised_train_rmse_each_iteration)\n",
    "np.savetxt(\"regularised_test_rmse_each_iteration.txt\", regularised_test_rmse_each_iteration)\n",
    "\n",
    "np.savetxt(\"train_mae_each_iteration.txt\",train_mae_each_iteration)\n",
    "np.savetxt(\"test_mae_each_iteration.txt\",test_mae_each_iteration)\n",
    "np.savetxt(\"train_rmse_each_iteration.txt\",train_rmse_each_iteration)\n",
    "np.savetxt(\"test_rmse_each_iteration.txt\",test_rmse_each_iteration)"
   ]
  },
  {
   "cell_type": "code",
   "execution_count": 197,
   "metadata": {},
   "outputs": [],
   "source": [
    "#regularised_train_mae_each_iteration = np.loadtxt(\"regularised_train_mae_each_iteration.txt\")\n",
    "#regularised_test_mae_each_iteration = np.loadtxt(\"regularised_test_mae_each_iteration.txt\")\n",
    "#regularised_train_rmse_each_iteration = np.loadtxt(\"regularised_train_rmse_each_iteration.txt\")\n",
    "#regularised_test_rmse_each_iteration = np.loadtxt(\"regularised_test_rmse_each_iteration.txt\")"
   ]
  }
 ],
 "metadata": {
  "interpreter": {
   "hash": "d853d0ac6ee2379b1e9a3c8542b1515219198557717fab5192982d9310523a55"
  },
  "kernelspec": {
   "display_name": "Python 3.9.7 64-bit",
   "language": "python",
   "name": "python3"
  },
  "language_info": {
   "codemirror_mode": {
    "name": "ipython",
    "version": 3
   },
   "file_extension": ".py",
   "mimetype": "text/x-python",
   "name": "python",
   "nbconvert_exporter": "python",
   "pygments_lexer": "ipython3",
   "version": "3.9.7"
  },
  "orig_nbformat": 4
 },
 "nbformat": 4,
 "nbformat_minor": 2
}
