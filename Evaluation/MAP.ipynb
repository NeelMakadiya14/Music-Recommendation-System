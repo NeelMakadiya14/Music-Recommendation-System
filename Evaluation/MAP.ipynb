{
 "cells": [
  {
   "cell_type": "code",
   "execution_count": 14,
   "metadata": {},
   "outputs": [],
   "source": [
    "def sort_dict_dec(d):\n",
    "    sorted_keys = sorted(d.keys(), key=lambda s: len(d[s]), reverse=True)\n",
    "    sorted_dict = {}\n",
    "    for i in range(0,len(d)):\n",
    "        sorted_dict[sorted_keys[i]] = d[sorted_keys[i]]\n",
    "    return sorted_dict\n",
    "\n",
    "def user_to_songs(if_str):\n",
    "    uts = dict()\n",
    "    with open(if_str, \"r\") as f:\n",
    "        for line in f:\n",
    "            user, song, _ = line.strip().split('\\t')\n",
    "            if user in uts:\n",
    "                uts[user].add(song)\n",
    "            else:\n",
    "                uts[user] = set([song])\n",
    "    return sort_dict_dec(uts)\n"
   ]
  },
  {
   "cell_type": "code",
   "execution_count": 15,
   "metadata": {},
   "outputs": [],
   "source": [
    "def AP_mod(l_rec, user_given_songs, tau):\n",
    "\n",
    "    np = len(user_given_songs)\n",
    "    #print \"np:\", np\n",
    "    nc = 0.0\n",
    "    ap = 0.0\n",
    "    for j, s in enumerate(l_rec):\n",
    "        if s in user_given_songs:\n",
    "            # print \"s in sMu\"\n",
    "            nc += 1.0\n",
    "            ap += nc/(j+1)\n",
    "    ap /= min(np, tau)\n",
    "    return ap\n",
    "\n",
    "# first_500: list of users\n",
    "# l_rec_songs: list of lists, recommended songs for users\n",
    "# u2s: mapping users to songs\n",
    "# tau: 30\n",
    "def mAP_mod(first_500, l_rec_songs, u2s_testing, tau):\n",
    "    mapr = 0\n",
    "    n_users = len(first_500)\n",
    "    # for i, l_rec in enumerate(l_rec_songs):\n",
    "    #     if not first_500[i] in u2s_testing:\n",
    "    #         continue\n",
    "    #     mapr += AP(l_rec, u2s_testing[first_500[i]], tau)\n",
    "    # return mapr/n_users\n",
    "\n",
    "    for user in first_500:\n",
    "        if not user in u2s_testing:\n",
    "            continue\n",
    "        mapr += AP_mod(l_rec_songs[user], u2s_testing[user], tau)\n",
    "    return mapr/n_users"
   ]
  },
  {
   "cell_type": "code",
   "execution_count": 16,
   "metadata": {},
   "outputs": [],
   "source": [
    "import os.path\n",
    "path = os.getcwd()\n",
    "u2s_testing = user_to_songs(os.path.dirname(path) + '/Data/year1_triplets_hidden.txt')"
   ]
  },
  {
   "cell_type": "code",
   "execution_count": 4,
   "metadata": {},
   "outputs": [],
   "source": [
    "testing_users = []\n",
    "\n",
    "with open(os.path.dirname(path) + '/Data/testing_500_users_sorted.txt','r') as f:\n",
    "    for line in f:\n",
    "        testing_users.append(line.strip())"
   ]
  },
  {
   "cell_type": "code",
   "execution_count": 12,
   "metadata": {},
   "outputs": [],
   "source": [
    "import json\n",
    "# Opening JSON file\n",
    "with open(os.path.dirname(path) + '/Factorization/factorization_recommendations.json') as json_file:\n",
    "    l_rec_songs = json.load(json_file)"
   ]
  },
  {
   "cell_type": "code",
   "execution_count": 17,
   "metadata": {},
   "outputs": [
    {
     "name": "stdout",
     "output_type": "stream",
     "text": [
      "0.0472852876274\n"
     ]
    }
   ],
   "source": [
    "mAP_mod(testing_users, l_rec_songs, u2s_testing, 30)"
   ]
  }
 ],
 "metadata": {
  "interpreter": {
   "hash": "d853d0ac6ee2379b1e9a3c8542b1515219198557717fab5192982d9310523a55"
  },
  "kernelspec": {
   "display_name": "Python 3.9.7 64-bit",
   "language": "python",
   "name": "python3"
  },
  "language_info": {
   "codemirror_mode": {
    "name": "ipython",
    "version": 3
   },
   "file_extension": ".py",
   "mimetype": "text/x-python",
   "name": "python",
   "nbconvert_exporter": "python",
   "pygments_lexer": "ipython3",
   "version": "3.9.7"
  },
  "orig_nbformat": 4
 },
 "nbformat": 4,
 "nbformat_minor": 2
}
